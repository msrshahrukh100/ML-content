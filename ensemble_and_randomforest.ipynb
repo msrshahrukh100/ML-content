{
 "cells": [
  {
   "cell_type": "markdown",
   "metadata": {},
   "source": [
    "# Ensemble Learning and Random Forests\n",
    "\n",
    "\n",
    " A group of predictors is called an **ensemble**; thus, this technique is called **Ensemble Learning**, and an **Ensemble Learning algorithm is called an Ensemble method**."
   ]
  },
  {
   "cell_type": "markdown",
   "metadata": {},
   "source": [
    "For example, you can train a group of Decision Tree classifiers, each on a different random subset of the training set.\n",
    "\n",
    "To make predictions,\n",
    "+ You just obtain the predictions of all individual trees,\n",
    "+ then predict the class that gets the most votes.\n",
    "\n",
    "**Such an ensemble of Decision Trees is called a Random Forest**, and despite its simplicity, this is one of the most powerful Machine Learning algorithms available today.\n"
   ]
  },
  {
   "cell_type": "markdown",
   "metadata": {},
   "source": [
    "\n",
    "## Voting Classifiers\n",
    "\n",
    "![Training diverse classifiers](images/training_diverse_classifiers.png)"
   ]
  },
  {
   "cell_type": "markdown",
   "metadata": {},
   "source": [
    "A very simple way to create an even better classifier is to aggregate the predictions of each classifier and predict the class that gets the most votes. \n",
    "**This majority-vote classifier is called a hard voting classifier**."
   ]
  },
  {
   "cell_type": "markdown",
   "metadata": {},
   "source": [
    "![Hard voting classifier classification](images/hard_voting.png)"
   ]
  },
  {
   "cell_type": "markdown",
   "metadata": {},
   "source": [
    "\n",
    "Somewhat surprisingly, this voting classifier often achieves a higher accuracy than the best classifier in the ensemble.\n",
    "+ In fact, even if each classifier is a weak learner (meaning it does only slightly better than random guessing), the ensemble can still be a strong learner (achieving high accuracy), \n",
    "+ provided there are a sufficient number of weak learners and they are sufficiently diverse."
   ]
  },
  {
   "cell_type": "markdown",
   "metadata": {},
   "source": [
    "Suppose if all the classifiers trained in the ensemble has a accuracy of 51% only. So to find the combined accuracy we want to find how many times each of the classifiers are correct.\n",
    "\n",
    "For a binary classifier, running it n times the probability distribution will be the binomial series\n",
    "\n",
    "\n",
    "**<sup>n</sup>C<sub>r</sub>a<sup>n-r</sup>b<sup>r</sup> **\n",
    "\n",
    " where n-r > r ie the power of a is greater than power of b"
   ]
  },
  {
   "cell_type": "code",
   "execution_count": 1,
   "metadata": {},
   "outputs": [],
   "source": [
    "import numpy as np\n",
    "def nCr(n, r):\n",
    "    return np.math.factorial(n)//(np.math.factorial(r) * np.math.factorial(n-r))"
   ]
  },
  {
   "cell_type": "code",
   "execution_count": 2,
   "metadata": {},
   "outputs": [
    {
     "data": {
      "text/plain": [
       "Decimal('0.7260985557305041450334633096')"
      ]
     },
     "execution_count": 2,
     "metadata": {},
     "output_type": "execute_result"
    }
   ],
   "source": [
    "prob = 0\n",
    "from decimal import Decimal\n",
    "for i in range(1, 500):\n",
    "    prob += np.multiply(np.multiply(nCr(1000, i), Decimal(0.51 ** (1000-i))), Decimal(0.49 ** i))\n",
    "    \n",
    "prob \n"
   ]
  },
  {
   "cell_type": "markdown",
   "metadata": {},
   "source": [
    "#### How is this possible ??\n",
    "\n",
    "+ Suppose you have a slightly biased coin that has a 51% chance of coming up heads, \n",
    "+ and 49% chance of coming up tails. \n",
    "+ If you toss it 1,000 times, you will generally get more or less 510 heads and 490 tails, \n",
    "+ and hence a majority of heads. \n",
    "\n",
    "If you do the math, you will find that the probability of obtaining a majority of heads after 1,000 tosses is close to 75%. The more you toss the coin, the higher the probability (e.g., with 10,000 tosses, the probability climbs over 97%). This is due to the law of large numbers: as you keep tossing the coin, the ratio of heads gets closer and closer to the probability of heads (51%). \n",
    "\n",
    "Below figure shows 10 series of biased coin tosses. You can see that as the number of tosses increases, the ratio of heads approaches 51%. Eventually all 10 series end up so close to 51% that they are consistently above 50%.\n"
   ]
  },
  {
   "cell_type": "markdown",
   "metadata": {},
   "source": [
    "#### Lets prepare with common imports and settings"
   ]
  },
  {
   "cell_type": "code",
   "execution_count": 3,
   "metadata": {},
   "outputs": [],
   "source": [
    "# Common imports\n",
    "import numpy as np\n",
    "import matplotlib.pyplot as plt\n",
    "import os\n",
    "\n",
    "# setting random seed\n",
    "np.random.seed(42)\n",
    "\n",
    "\n",
    "# To plot pretty figures\n",
    "%matplotlib inline\n",
    "import matplotlib\n",
    "import matplotlib.pyplot as plt\n",
    "plt.rcParams['axes.labelsize'] = 14\n",
    "plt.rcParams['xtick.labelsize'] = 12\n",
    "plt.rcParams['ytick.labelsize'] = 12\n",
    "\n",
    "\n",
    "CHAPTER_ID = \"ensembles\"\n",
    "\n",
    "def image_path(fig_id):\n",
    "    \n",
    "    if os.path.exists(os.path.join(\"images\", CHAPTER_ID)):\n",
    "        return os.path.join(\"images\", CHAPTER_ID, fig_id)\n",
    "    os.mkdir(os.path.join(\"images\", CHAPTER_ID))\n",
    "    return os.path.join(\"images\", CHAPTER_ID, fig_id)\n",
    "\n",
    "def save_fig(fig_id, tight_layout=True):\n",
    "    print(\"Saving figure\", fig_id)\n",
    "    if tight_layout:\n",
    "        plt.tight_layout()\n",
    "    plt.savefig(image_path(fig_id) + \".png\", format='png', dpi=300)"
   ]
  },
  {
   "cell_type": "code",
   "execution_count": 4,
   "metadata": {},
   "outputs": [
    {
     "data": {
      "text/plain": [
       "array([[1.        , 0.        , 0.        , ..., 0.        , 0.        ,\n",
       "        0.        ],\n",
       "       [1.        , 0.        , 0.        , ..., 0.        , 0.5       ,\n",
       "        0.5       ],\n",
       "       [0.66666667, 0.33333333, 0.33333333, ..., 0.        , 0.33333333,\n",
       "        0.66666667],\n",
       "       ...,\n",
       "       [0.51140228, 0.5115023 , 0.50680136, ..., 0.5095019 , 0.51070214,\n",
       "        0.51010202],\n",
       "       [0.51135114, 0.51145115, 0.50685069, ..., 0.50955096, 0.51075108,\n",
       "        0.51015102],\n",
       "       [0.5113    , 0.5115    , 0.5068    , ..., 0.5095    , 0.5108    ,\n",
       "        0.5102    ]])"
      ]
     },
     "execution_count": 4,
     "metadata": {},
     "output_type": "execute_result"
    }
   ],
   "source": [
    "heads_proba = 0.51 # The probability of head is 0.51 as it is a biased coin\n",
    "\n",
    "# coin_tosses contains the coin tosses for 10 series of 10000 times of coin tosses\n",
    "coin_tosses = (np.random.rand(10000, 10) < heads_proba).astype(np.int32) \n",
    "cumulative_sum_of_number_of_heads = np.cumsum(coin_tosses, axis=0)\n",
    "cumulative_heads_ratio = cumulative_sum_of_number_of_heads / np.arange(1, 10001).reshape(-1, 1)\n",
    "cumulative_heads_ratio\n"
   ]
  },
  {
   "cell_type": "markdown",
   "metadata": {},
   "source": [
    "#### Now let's visualize that the probability reaches 51 with increasing number of trials"
   ]
  },
  {
   "cell_type": "code",
   "execution_count": 5,
   "metadata": {},
   "outputs": [
    {
     "name": "stdout",
     "output_type": "stream",
     "text": [
      "Saving figure law_of_large_numbers_plot\n"
     ]
    },
    {
     "data": {
      "image/png": "[encoded data removed]",
      "text/plain": [
       "<matplotlib.figure.Figure at 0x10fba4be0>"
      ]
     },
     "metadata": {},
     "output_type": "display_data"
    }
   ],
   "source": [
    "plt.figure(figsize=(8, 3.5))\n",
    "plt.plot(cumulative_heads_ratio)\n",
    "plt.plot([0, 10000], [0.51, 0.51], \"k--\", linewidth=2, label=\"51%\")\n",
    "plt.plot([0, 10000], [0.5, 0.5], \"k-\", label=\"50%\")\n",
    "plt.xlabel(\"Number of coin tosses\")\n",
    "plt.ylabel(\"Heads ratio\")\n",
    "plt.legend(loc=\"lower right\")\n",
    "plt.axis([0, 10000, 0.42, 0.63])\n",
    "save_fig(\"law_of_large_numbers_plot\")\n",
    "plt.show()\n"
   ]
  },
  {
   "cell_type": "markdown",
   "metadata": {},
   "source": [
    "Ensemble methods work best when the predictors are \n",
    "\n",
    "+ As independent from one another as possible. \n",
    "+ One way to get diverse classifiers is to train them using very different algorithms. \n",
    "+ This increases the chance that they will make very different types of errors, improving the ensemble’s accuracy.\n"
   ]
  },
  {
   "cell_type": "markdown",
   "metadata": {},
   "source": [
    "Let's train a voting classifier and check if it performs better than the individual classifiers"
   ]
  },
  {
   "cell_type": "code",
   "execution_count": 6,
   "metadata": {},
   "outputs": [
    {
     "data": {
      "text/plain": [
       "<matplotlib.collections.PathCollection at 0x1133a6278>"
      ]
     },
     "execution_count": 6,
     "metadata": {},
     "output_type": "execute_result"
    },
    {
     "data": {
      "image/png": "[encoded data removed]",
      "text/plain": [
       "<matplotlib.figure.Figure at 0x113343f60>"
      ]
     },
     "metadata": {},
     "output_type": "display_data"
    }
   ],
   "source": [
    "from sklearn.model_selection import train_test_split\n",
    "from sklearn.datasets import make_moons\n",
    "\n",
    "X, y = make_moons(n_samples=500, noise=0.3, random_state=42)\n",
    "X_train, X_test, y_train, y_test = train_test_split(X, y, random_state=42)\n",
    "\n",
    "plt.scatter(X[:,0], X[:, 1], c=y)\n"
   ]
  },
  {
   "cell_type": "code",
   "execution_count": 7,
   "metadata": {},
   "outputs": [
    {
     "data": {
      "text/plain": [
       "VotingClassifier(estimators=[('lr', LogisticRegression(C=1.0, class_weight=None, dual=False, fit_intercept=True,\n",
       "          intercept_scaling=1, max_iter=100, multi_class='ovr', n_jobs=1,\n",
       "          penalty='l2', random_state=42, solver='liblinear', tol=0.0001,\n",
       "          verbose=0, warm_start=False)), ('rf', RandomFor...f',\n",
       "  max_iter=-1, probability=False, random_state=42, shrinking=True,\n",
       "  tol=0.001, verbose=False))],\n",
       "         flatten_transform=None, n_jobs=1, voting='hard', weights=None)"
      ]
     },
     "execution_count": 7,
     "metadata": {},
     "output_type": "execute_result"
    }
   ],
   "source": [
    "from sklearn.ensemble import RandomForestClassifier\n",
    "from sklearn.ensemble import VotingClassifier\n",
    "from sklearn.linear_model import LogisticRegression\n",
    "from sklearn.svm import SVC\n",
    "\n",
    "log_clf = LogisticRegression(random_state=42)\n",
    "rnd_clf = RandomForestClassifier(random_state=42)\n",
    "svm_clf = SVC(random_state=42)\n",
    "\n",
    "voting_clf = VotingClassifier(\n",
    "    estimators=[('lr', log_clf), ('rf', rnd_clf), ('svc', svm_clf)],\n",
    "    voting='hard')\n",
    "voting_clf.fit(X_train, y_train)"
   ]
  },
  {
   "cell_type": "code",
   "execution_count": 8,
   "metadata": {},
   "outputs": [
    {
     "name": "stdout",
     "output_type": "stream",
     "text": [
      "LogisticRegression 0.864\n",
      "RandomForestClassifier 0.872\n",
      "SVC 0.888\n",
      "VotingClassifier 0.896\n"
     ]
    },
    {
     "name": "stderr",
     "output_type": "stream",
     "text": [
      "/Users/shahrukh/Code/Home/Machine_Learning/env/lib/python3.6/site-packages/sklearn/preprocessing/label.py:151: DeprecationWarning: The truth value of an empty array is ambiguous. Returning False, but in future this will result in an error. Use `array.size > 0` to check that an array is not empty.\n",
      "  if diff:\n"
     ]
    }
   ],
   "source": [
    "from sklearn.metrics import accuracy_score\n",
    "\n",
    "for clf in (log_clf, rnd_clf, svm_clf, voting_clf):\n",
    "    clf.fit(X_train, y_train)\n",
    "    y_pred = clf.predict(X_test)\n",
    "    print(clf.__class__.__name__, accuracy_score(y_test, y_pred))"
   ]
  },
  {
   "cell_type": "markdown",
   "metadata": {},
   "source": [
    "**The voting classifier slightly outperforms all the individual classifiers.**\n"
   ]
  },
  {
   "cell_type": "markdown",
   "metadata": {},
   "source": [
    "## Hard voting and Soft voting\n",
    "\n",
    "+ If all classifiers are able to **estimate class probabilities (i.e., they have a predict_proba() method)**, then you can tell Scikit-Learn **to predict the class with the highest class probability, averaged over all the individual classifiers. This is called soft voting.**\n",
    "\n",
    "+ It often achieves higher performance than hard voting because it gives more weight to highly confident votes. All you need to do is replace voting=\"hard\" with voting=\"soft\" and ensure that all classifiers can estimate class probabilities. \n",
    "\n",
    "+ This is not the case of the SVC class by default, so you need to set its probability hyperparameter to True (this will make the SVC class use cross-validation to estimate class probabilities, slowing down training, and it will add a predict_proba() method). \n",
    "\n",
    "Let us modify the preceding code to use soft voting, you will find that the voting classifier achieves over 91% accuracy!"
   ]
  },
  {
   "cell_type": "code",
   "execution_count": 9,
   "metadata": {},
   "outputs": [
    {
     "data": {
      "text/plain": [
       "VotingClassifier(estimators=[('lr', LogisticRegression(C=1.0, class_weight=None, dual=False, fit_intercept=True,\n",
       "          intercept_scaling=1, max_iter=100, multi_class='ovr', n_jobs=1,\n",
       "          penalty='l2', random_state=42, solver='liblinear', tol=0.0001,\n",
       "          verbose=0, warm_start=False)), ('rf', RandomFor...bf',\n",
       "  max_iter=-1, probability=True, random_state=42, shrinking=True,\n",
       "  tol=0.001, verbose=False))],\n",
       "         flatten_transform=None, n_jobs=1, voting='soft', weights=None)"
      ]
     },
     "execution_count": 9,
     "metadata": {},
     "output_type": "execute_result"
    }
   ],
   "source": [
    "log_clf = LogisticRegression(random_state=42)\n",
    "rnd_clf = RandomForestClassifier(random_state=42)\n",
    "svm_clf = SVC(random_state=42, probability=True)\n",
    "\n",
    "voting_clf = VotingClassifier(\n",
    "    estimators=[('lr', log_clf), ('rf', rnd_clf), ('svc', svm_clf)],\n",
    "    voting='soft')\n",
    "voting_clf.fit(X_train, y_train)"
   ]
  },
  {
   "cell_type": "code",
   "execution_count": 10,
   "metadata": {},
   "outputs": [
    {
     "name": "stdout",
     "output_type": "stream",
     "text": [
      "LogisticRegression 0.864\n",
      "RandomForestClassifier 0.872\n",
      "SVC 0.888\n",
      "VotingClassifier 0.912\n"
     ]
    },
    {
     "name": "stderr",
     "output_type": "stream",
     "text": [
      "/Users/shahrukh/Code/Home/Machine_Learning/env/lib/python3.6/site-packages/sklearn/preprocessing/label.py:151: DeprecationWarning: The truth value of an empty array is ambiguous. Returning False, but in future this will result in an error. Use `array.size > 0` to check that an array is not empty.\n",
      "  if diff:\n"
     ]
    }
   ],
   "source": [
    "for clf in (log_clf, rnd_clf, svm_clf, voting_clf):\n",
    "    clf.fit(X_train, y_train)\n",
    "    y_pred = clf.predict(X_test)\n",
    "    print(clf.__class__.__name__, accuracy_score(y_test, y_pred))"
   ]
  },
  {
   "cell_type": "markdown",
   "metadata": {},
   "source": [
    "## Bagging and Pasting\n",
    "\n",
    "+ One way to get a diverse set of classifiers is to use very different training algorithms, as just discussed.\n",
    "+ Another approach is to use the same training algorithm for every predictor, but to train them on different random subsets of the training set. \n",
    "\n",
    "\n",
    "+ When sampling **is performed with replacement, this method is called bagging (short for bootstrap aggregating2)**. \n",
    "+ When sampling **is performed without replacement, it is called pasting**.\n",
    "\n",
    "\n",
    "In other words, both bagging and pasting allow training instances to be sampled several times across multiple predictors, but only bagging allows training instances to be sampled several times for the same predictor"
   ]
  },
  {
   "cell_type": "markdown",
   "metadata": {},
   "source": [
    "![Pasting and Bagging](images/pasting_bagging.png)"
   ]
  },
  {
   "cell_type": "markdown",
   "metadata": {},
   "source": [
    "+ Once all predictors are trained, the ensemble can make a prediction for a new instance by simply aggregating the predictions of all predictors.\n",
    "+ The aggregation function is typically the statistical mode (i.e., the most frequent prediction, just like a hard voting classifier) for classification, or the average for regression."
   ]
  },
  {
   "cell_type": "markdown",
   "metadata": {},
   "source": [
    "Each individual predictor has a higher bias than if it were trained on the original training set, but aggregation reduces both bias and variance. Generally, the net result is that the ensemble has a similar bias but a lower variance than a single predictor trained on the original training set.\n",
    "\n",
    "\n",
    "**As you can see in Figure 7-4, predictors can all be trained in parallel, via different CPU cores or even different servers. Similarly, predictions can be made in parallel. This is one of the reasons why bagging and pasting are such popular methods: they scale very well.**"
   ]
  },
  {
   "cell_type": "markdown",
   "metadata": {},
   "source": [
    "The following code trains an ensemble of 500 Decision Tree classifiers, each trained on 100 training instances randomly sampled from **the training set with replacement (this is an example of bagging, but if you want to use pasting instead, just set bootstrap=False)**.\n",
    "\n",
    "\n",
    "The n_jobs parameter tells Scikit-Learn the **number of CPU cores to use for training and predictions (–1 tells Scikit-Learn to use all available cores)**:"
   ]
  },
  {
   "cell_type": "code",
   "execution_count": 11,
   "metadata": {},
   "outputs": [
    {
     "name": "stdout",
     "output_type": "stream",
     "text": [
      "500\n",
      "True\n",
      "375\n",
      "375\n",
      "90\n",
      "375\n",
      "93\n",
      "375\n",
      "88\n",
      "375\n",
      "88\n",
      "375\n",
      "84\n",
      "375\n",
      "88\n",
      "375\n",
      "93\n",
      "375\n",
      "90\n",
      "375\n",
      "88\n",
      "375\n",
      "87\n",
      "375\n",
      "90\n",
      "375\n",
      "90\n",
      "375\n",
      "82\n",
      "375\n",
      "90\n",
      "375\n",
      "94\n",
      "375\n",
      "89\n",
      "375\n",
      "84\n",
      "375\n",
      "88\n",
      "375\n",
      "84\n",
      "375\n",
      "91\n",
      "375\n",
      "92\n",
      "375\n",
      "87\n",
      "375\n",
      "84\n",
      "375\n",
      "83\n",
      "375\n",
      "85\n",
      "375\n",
      "88\n",
      "375\n",
      "88\n",
      "375\n",
      "84\n",
      "375\n",
      "90\n",
      "375\n",
      "84\n",
      "375\n",
      "85\n",
      "375\n",
      "88\n",
      "375\n",
      "84\n",
      "375\n",
      "92\n",
      "375\n",
      "88\n",
      "375\n",
      "86\n",
      "375\n",
      "88\n",
      "375\n",
      "88\n",
      "375\n",
      "83\n",
      "375\n",
      "90\n",
      "375\n",
      "84\n",
      "375\n",
      "85\n",
      "375\n",
      "85\n",
      "375\n",
      "96\n",
      "375\n",
      "89\n",
      "375\n",
      "89\n",
      "375\n",
      "84\n",
      "375\n",
      "92\n",
      "375\n",
      "88\n",
      "375\n",
      "87\n",
      "375\n",
      "85\n",
      "375\n",
      "89\n",
      "375\n",
      "94\n",
      "375\n",
      "91\n",
      "375\n",
      "87\n",
      "375\n",
      "91\n",
      "375\n",
      "89\n",
      "375\n",
      "87\n",
      "375\n",
      "87\n",
      "375\n",
      "91\n",
      "375\n",
      "86\n",
      "375\n",
      "89\n",
      "375\n",
      "82\n",
      "375\n",
      "82\n",
      "375\n",
      "86\n",
      "375\n",
      "88\n",
      "375\n",
      "92\n",
      "375\n",
      "91\n",
      "375\n",
      "86\n",
      "375\n",
      "89\n",
      "375\n",
      "88\n",
      "375\n",
      "85\n",
      "375\n",
      "85\n",
      "375\n",
      "87\n",
      "375\n",
      "86\n",
      "375\n",
      "86\n",
      "375\n",
      "89\n",
      "375\n",
      "87\n",
      "375\n",
      "89\n",
      "375\n",
      "86\n",
      "375\n",
      "86\n",
      "375\n",
      "84\n",
      "375\n",
      "87\n",
      "375\n",
      "87\n",
      "375\n",
      "89\n",
      "375\n",
      "90\n",
      "375\n",
      "89\n",
      "375\n",
      "91\n",
      "375\n",
      "90\n",
      "375\n",
      "90\n",
      "375\n",
      "89\n",
      "375\n",
      "87\n",
      "375\n",
      "89\n",
      "375\n",
      "90\n",
      "375\n",
      "88\n",
      "375\n",
      "82\n",
      "375\n",
      "84\n",
      "375\n",
      "89\n",
      "375\n",
      "91\n",
      "375\n",
      "85\n",
      "375\n",
      "85\n",
      "375\n",
      "88\n",
      "375\n",
      "85\n",
      "375\n",
      "79\n",
      "375\n",
      "91\n",
      "375\n",
      "93\n",
      "375\n",
      "93\n",
      "375\n",
      "81\n",
      "375\n",
      "87\n",
      "375\n",
      "88\n",
      "375\n",
      "87\n",
      "375\n",
      "94\n",
      "375\n",
      "92\n",
      "375\n",
      "90\n",
      "375\n",
      "91\n",
      "375\n",
      "91\n",
      "375\n",
      "87\n",
      "375\n",
      "87\n",
      "375\n",
      "87\n",
      "375\n",
      "85\n",
      "375\n",
      "90\n",
      "375\n",
      "86\n",
      "375\n",
      "91\n",
      "375\n",
      "86\n",
      "375\n",
      "88\n",
      "375\n",
      "90\n",
      "375\n",
      "89\n",
      "375\n",
      "91\n",
      "375\n",
      "89\n",
      "375\n",
      "87\n",
      "375\n",
      "90\n",
      "375\n",
      "86\n",
      "375\n",
      "85\n",
      "375\n",
      "88\n",
      "375\n",
      "86\n",
      "375\n",
      "90\n",
      "375\n",
      "86\n",
      "375\n",
      "86\n",
      "375\n",
      "82\n",
      "375\n",
      "90\n",
      "375\n",
      "93\n",
      "375\n",
      "84\n",
      "375\n",
      "86\n",
      "375\n",
      "90\n",
      "375\n",
      "87\n",
      "375\n",
      "85\n",
      "375\n",
      "88\n",
      "375\n",
      "86\n",
      "375\n",
      "87\n",
      "375\n",
      "88\n",
      "375\n",
      "86\n",
      "375\n",
      "89\n",
      "375\n",
      "87\n",
      "375\n",
      "89\n",
      "375\n",
      "89\n",
      "375\n",
      "91\n",
      "375\n",
      "88\n",
      "375\n",
      "90\n",
      "375\n",
      "89\n",
      "375\n",
      "89\n",
      "375\n",
      "84\n",
      "375\n",
      "84\n",
      "375\n",
      "88\n",
      "375\n",
      "93\n",
      "375\n",
      "87\n",
      "375\n",
      "91\n",
      "375\n",
      "89\n",
      "375\n",
      "86\n",
      "375\n",
      "91\n",
      "375\n",
      "87\n",
      "375\n",
      "95\n",
      "375\n",
      "85\n",
      "375\n",
      "84\n",
      "375\n",
      "88\n",
      "375\n",
      "84\n",
      "375\n",
      "88\n",
      "375\n",
      "95\n",
      "375\n",
      "84\n",
      "375\n",
      "90\n",
      "375\n",
      "88\n",
      "375\n",
      "91\n",
      "375\n",
      "92\n",
      "375\n",
      "86\n",
      "375\n",
      "93\n",
      "375\n",
      "90\n",
      "375\n",
      "93\n",
      "375\n",
      "95\n",
      "375\n",
      "89\n",
      "375\n",
      "86\n",
      "375\n",
      "84\n",
      "375\n",
      "85\n",
      "375\n",
      "88\n",
      "375\n",
      "87\n",
      "375\n",
      "90\n",
      "375\n",
      "92\n",
      "375\n",
      "84\n",
      "375\n",
      "90\n",
      "375\n",
      "90\n",
      "375\n",
      "88\n",
      "375\n",
      "88\n",
      "375\n",
      "86\n",
      "375\n",
      "93\n",
      "375\n",
      "93\n",
      "375\n",
      "94\n",
      "375\n",
      "89\n",
      "375\n",
      "87\n",
      "375\n",
      "86\n",
      "375\n",
      "87\n",
      "375\n",
      "84\n",
      "375\n",
      "86\n",
      "375\n",
      "90\n",
      "375\n",
      "90\n",
      "375\n",
      "89\n",
      "375\n",
      "88\n",
      "375\n",
      "92\n",
      "375\n",
      "83\n",
      "375\n",
      "84\n",
      "375\n",
      "91\n",
      "375\n",
      "86\n",
      "375\n",
      "87\n",
      "375\n",
      "87\n",
      "375\n",
      "89\n",
      "375\n",
      "89\n",
      "375\n",
      "86\n",
      "375\n",
      "84\n",
      "375\n",
      "87\n",
      "375\n",
      "86\n",
      "375\n",
      "86\n",
      "375\n",
      "90\n",
      "375\n",
      "87\n",
      "375\n",
      "92\n",
      "375\n",
      "87\n",
      "375\n",
      "87\n",
      "375\n",
      "92\n",
      "375\n",
      "90\n",
      "375\n",
      "85\n",
      "375\n",
      "86\n",
      "375\n",
      "88\n",
      "375\n",
      "90\n",
      "375\n",
      "87\n",
      "375\n",
      "87\n",
      "375\n",
      "85\n",
      "375\n",
      "85\n",
      "375\n",
      "86\n",
      "375\n",
      "85\n",
      "375\n",
      "89\n",
      "375\n",
      "86\n",
      "375\n",
      "89\n",
      "375\n",
      "92\n",
      "375\n",
      "90\n",
      "375\n",
      "87\n",
      "375\n",
      "87\n",
      "375\n",
      "92\n",
      "375\n",
      "89\n",
      "375\n",
      "89\n",
      "375\n",
      "90\n",
      "375\n",
      "89\n",
      "375\n",
      "87\n",
      "375\n",
      "84\n",
      "375\n",
      "88\n",
      "375\n",
      "87\n",
      "375\n",
      "82\n",
      "375\n",
      "87\n",
      "375\n",
      "87\n",
      "375\n",
      "92\n",
      "375\n",
      "87\n",
      "375\n",
      "92\n",
      "375\n",
      "85\n",
      "375\n",
      "87\n",
      "375\n",
      "90\n",
      "375\n",
      "87\n",
      "375\n",
      "88\n",
      "375\n",
      "89\n",
      "375\n",
      "87\n",
      "375\n",
      "89\n",
      "375\n",
      "88\n",
      "375\n",
      "86\n",
      "375\n",
      "87\n",
      "375\n",
      "86\n",
      "375\n",
      "88\n",
      "375\n",
      "89\n",
      "375\n",
      "90\n",
      "375\n",
      "92\n",
      "375\n",
      "87\n",
      "375\n",
      "92\n",
      "375\n",
      "91\n",
      "375\n",
      "84\n",
      "375\n",
      "88\n",
      "375\n",
      "88\n",
      "375\n",
      "86\n",
      "375\n",
      "88\n",
      "375\n",
      "86\n",
      "375\n",
      "87\n",
      "375\n",
      "89\n",
      "375\n",
      "88\n",
      "375\n",
      "87\n",
      "375\n",
      "84\n",
      "375\n",
      "89\n",
      "375\n",
      "90\n",
      "375\n",
      "92\n",
      "375\n",
      "91\n",
      "375\n",
      "91\n",
      "375\n",
      "89\n",
      "375\n",
      "91\n",
      "375\n",
      "92\n",
      "375\n",
      "88\n",
      "375\n",
      "87\n",
      "375\n",
      "88\n",
      "375\n",
      "92\n",
      "375\n",
      "86\n",
      "375\n",
      "87\n",
      "375\n",
      "86\n",
      "375\n",
      "91\n",
      "375\n",
      "82\n",
      "375\n",
      "84\n",
      "375\n",
      "90\n",
      "375\n",
      "89\n",
      "375\n",
      "83\n",
      "375\n",
      "87\n",
      "375\n",
      "86\n",
      "375\n",
      "83\n",
      "375\n",
      "95\n",
      "375\n",
      "86\n",
      "375\n",
      "88\n",
      "375\n",
      "90\n",
      "375\n",
      "84\n",
      "375\n",
      "87\n",
      "375\n",
      "85\n",
      "375\n",
      "89\n",
      "375\n",
      "82\n",
      "375\n",
      "89\n",
      "375\n",
      "86\n",
      "375\n",
      "90\n",
      "375\n",
      "90\n",
      "375\n",
      "84\n",
      "375\n",
      "87\n",
      "375\n",
      "91\n",
      "375\n",
      "86\n",
      "375\n",
      "85\n",
      "375\n",
      "93\n",
      "375\n",
      "86\n",
      "375\n",
      "93\n",
      "375\n",
      "89\n",
      "375\n",
      "86\n",
      "375\n",
      "89\n",
      "375\n",
      "93\n",
      "375\n",
      "86\n",
      "375\n",
      "90\n",
      "375\n",
      "87\n",
      "375\n",
      "92\n",
      "375\n",
      "87\n",
      "375\n",
      "89\n",
      "375\n",
      "89\n",
      "375\n",
      "89\n",
      "375\n",
      "90\n",
      "375\n",
      "92\n",
      "375\n",
      "92\n",
      "375\n",
      "90\n",
      "375\n",
      "87\n",
      "375\n",
      "87\n",
      "375\n",
      "86\n",
      "375\n",
      "86\n",
      "375\n",
      "86\n",
      "375\n",
      "86\n",
      "375\n",
      "83\n",
      "375\n",
      "93\n",
      "375\n",
      "91\n",
      "375\n",
      "87\n",
      "375\n",
      "87\n",
      "375\n",
      "94\n",
      "375\n",
      "85\n",
      "375\n",
      "84\n",
      "375\n",
      "91\n",
      "375\n",
      "88\n",
      "375\n",
      "88\n",
      "375\n",
      "87\n",
      "375\n",
      "88\n",
      "375\n",
      "93\n",
      "375\n",
      "87\n",
      "375\n",
      "86\n",
      "375\n",
      "86\n",
      "375\n",
      "86\n",
      "375\n",
      "86\n",
      "375\n",
      "87\n",
      "375\n",
      "86\n",
      "375\n",
      "88\n",
      "375\n",
      "86\n",
      "375\n",
      "86\n",
      "375\n",
      "85\n",
      "375\n",
      "86\n",
      "375\n",
      "90\n",
      "375\n",
      "86\n",
      "375\n",
      "90\n",
      "375\n",
      "84\n",
      "375\n",
      "93\n",
      "375\n",
      "88\n",
      "375\n",
      "90\n",
      "375\n",
      "82\n",
      "375\n",
      "87\n",
      "375\n",
      "86\n",
      "375\n",
      "83\n",
      "375\n",
      "91\n",
      "375\n",
      "88\n",
      "375\n",
      "89\n",
      "375\n",
      "88\n",
      "375\n",
      "91\n",
      "375\n",
      "86\n",
      "375\n",
      "88\n",
      "375\n",
      "87\n",
      "375\n",
      "87\n",
      "375\n",
      "87\n",
      "375\n",
      "93\n",
      "375\n",
      "85\n",
      "375\n",
      "87\n",
      "375\n",
      "87\n",
      "375\n",
      "93\n",
      "375\n",
      "86\n",
      "375\n",
      "85\n",
      "375\n",
      "88\n",
      "375\n",
      "84\n",
      "375\n",
      "88\n",
      "375\n",
      "89\n",
      "375\n",
      "86\n",
      "375\n",
      "92\n",
      "375\n",
      "91\n",
      "375\n",
      "88\n",
      "375\n",
      "87\n",
      "375\n",
      "89\n",
      "375\n",
      "91\n",
      "375\n",
      "86\n",
      "375\n",
      "90\n",
      "375\n",
      "87\n",
      "375\n",
      "86\n",
      "375\n",
      "85\n",
      "375\n",
      "81\n",
      "375\n",
      "84\n",
      "375\n",
      "88\n",
      "375\n",
      "87\n",
      "375\n",
      "83\n",
      "375\n",
      "94\n",
      "375\n",
      "85\n",
      "375\n",
      "90\n",
      "375\n",
      "85\n",
      "375\n",
      "84\n",
      "375\n",
      "86\n",
      "375\n",
      "89\n",
      "375\n",
      "88\n",
      "375\n",
      "87\n",
      "375\n",
      "91\n",
      "375\n",
      "86\n",
      "375\n",
      "90\n",
      "375\n",
      "87\n",
      "375\n",
      "93\n",
      "375\n",
      "86\n",
      "375\n",
      "90\n",
      "375\n",
      "91\n",
      "375\n",
      "93\n",
      "375\n",
      "92\n",
      "375\n",
      "89\n",
      "375\n",
      "88\n",
      "375\n",
      "90\n",
      "375\n",
      "87\n",
      "375\n",
      "84\n",
      "375\n",
      "93\n",
      "375\n",
      "89\n",
      "375\n",
      "92\n",
      "375\n",
      "90\n",
      "375\n",
      "89\n",
      "375\n",
      "92\n",
      "375\n",
      "92\n",
      "375\n",
      "89\n",
      "375\n",
      "90\n",
      "375\n",
      "84\n",
      "375\n",
      "87\n",
      "375\n",
      "84\n",
      "375\n",
      "84\n",
      "375\n",
      "87\n",
      "375\n",
      "88\n",
      "375\n",
      "92\n",
      "375\n",
      "88\n",
      "375\n",
      "89\n",
      "375\n",
      "85\n",
      "375\n",
      "90\n",
      "375\n",
      "89\n",
      "375\n",
      "91\n",
      "375\n",
      "90\n",
      "375\n",
      "91\n",
      "375\n",
      "89\n",
      "375\n",
      "86\n",
      "375\n",
      "89\n",
      "375\n",
      "90\n",
      "375\n",
      "85\n",
      "375\n",
      "95\n",
      "375\n",
      "85\n",
      "375\n",
      "90\n",
      "375\n",
      "85\n",
      "375\n",
      "89\n",
      "375\n",
      "89\n",
      "375\n",
      "92\n",
      "375\n",
      "87\n"
     ]
    }
   ],
   "source": [
    "from sklearn.ensemble import BaggingClassifier \n",
    "from sklearn.tree import DecisionTreeClassifier\n",
    "\n",
    "bag_clf = BaggingClassifier( \n",
    "    DecisionTreeClassifier(), \n",
    "    n_estimators=500, \n",
    "    max_samples=100, \n",
    "    bootstrap=True, \n",
    "    n_jobs=-1\n",
    ")\n",
    "\n",
    "bag_clf.fit(X_train, y_train)\n",
    "y_pred = bag_clf.predict(X_test)\n",
    "bag_clf.estimators_samples_[1]\n",
    "\n",
    "print(len(bag_clf.estimators_samples_))\n",
    "print(len(bag_clf.estimators_samples_) == 500)  # number of estimators\n",
    "print(len(X_train))\n",
    "\n",
    "# the estimators_samples from the docs returns - \n",
    "# The subset of drawn samples (i.e., the in-bag samples) for each base estimator. Each subset is defined by a boolean mask.\n",
    "\n",
    "# hence the number of true in each sample should be less than 100 sice max_samples = 100\n",
    "\n",
    "for samples in bag_clf.estimators_samples_:\n",
    "    print(len(samples))\n",
    "    print(np.sum(samples.astype(np.int32))) # this gives the samples included in the i th bag\n",
    "\n"
   ]
  },
  {
   "cell_type": "markdown",
   "metadata": {},
   "source": [
    "**The BaggingClassifier automatically performs soft voting instead of hard voting if the base classifier can estimate class probabilities (i.e., if it has a predict_proba() method), which is the case with Decision Trees classifiers.**"
   ]
  },
  {
   "cell_type": "markdown",
   "metadata": {},
   "source": [
    "As you can see, the ensemble’s predictions will likely generalize much better than the single Decision Tree’s predictions: the ensemble has a comparable bias but a smaller variance (it makes roughly the same number of errors on the training set, but the decision boundary is less irregular)."
   ]
  },
  {
   "cell_type": "code",
   "execution_count": 12,
   "metadata": {},
   "outputs": [
    {
     "name": "stdout",
     "output_type": "stream",
     "text": [
      "0.92\n"
     ]
    }
   ],
   "source": [
    "from sklearn.metrics import accuracy_score\n",
    "print(accuracy_score(y_test, y_pred))"
   ]
  },
  {
   "cell_type": "markdown",
   "metadata": {},
   "source": [
    "whereas for the individual tree we have"
   ]
  },
  {
   "cell_type": "code",
   "execution_count": 13,
   "metadata": {},
   "outputs": [
    {
     "name": "stdout",
     "output_type": "stream",
     "text": [
      "0.856\n"
     ]
    }
   ],
   "source": [
    "tree_clf = DecisionTreeClassifier(random_state=42)\n",
    "tree_clf.fit(X_train, y_train)\n",
    "y_pred_tree = tree_clf.predict(X_test)\n",
    "print(accuracy_score(y_test, y_pred_tree))"
   ]
  },
  {
   "cell_type": "markdown",
   "metadata": {},
   "source": [
    "Let's visualize how the Bagging classifier generalizes well on the data"
   ]
  },
  {
   "cell_type": "code",
   "execution_count": 14,
   "metadata": {},
   "outputs": [],
   "source": [
    "from matplotlib.colors import ListedColormap\n",
    "\n",
    "def plot_decision_boundary(clf, X, y, axes=[-1.5, 2.5, -1, 1.5], alpha=0.5, contour=True):\n",
    "    x1s = np.linspace(axes[0], axes[1], 100)\n",
    "    x2s = np.linspace(axes[2], axes[3], 100)\n",
    "    x1, x2 = np.meshgrid(x1s, x2s)\n",
    "    X_new = np.c_[x1.ravel(), x2.ravel()]\n",
    "    y_pred = clf.predict(X_new).reshape(x1.shape)\n",
    "    custom_cmap = ListedColormap(['#fafab0','#9898ff','#a0faa0'])\n",
    "    plt.contourf(x1, x2, y_pred, alpha=0.3, cmap=custom_cmap, linewidth=10)\n",
    "    if contour:\n",
    "        custom_cmap2 = ListedColormap(['#7d7d58','#4c4c7f','#507d50'])\n",
    "        plt.contour(x1, x2, y_pred, cmap=custom_cmap2, alpha=0.8)\n",
    "    plt.plot(X[:, 0][y==0], X[:, 1][y==0], \"yo\", alpha=alpha)\n",
    "    plt.plot(X[:, 0][y==1], X[:, 1][y==1], \"bs\", alpha=alpha)\n",
    "    plt.axis(axes)\n",
    "    plt.xlabel(r\"$x_1$\", fontsize=18)\n",
    "    plt.ylabel(r\"$x_2$\", fontsize=18, rotation=0)"
   ]
  },
  {
   "cell_type": "code",
   "execution_count": 15,
   "metadata": {},
   "outputs": [
    {
     "name": "stderr",
     "output_type": "stream",
     "text": [
      "/Users/shahrukh/Code/Home/Machine_Learning/env/lib/python3.6/site-packages/matplotlib/contour.py:967: UserWarning: The following kwargs were not used by contour: 'linewidth'\n",
      "  s)\n"
     ]
    },
    {
     "name": "stdout",
     "output_type": "stream",
     "text": [
      "Saving figure decision_tree_without_and_with_bagging_plot\n"
     ]
    },
    {
     "data": {
      "image/png": "[encoded data removed]",
      "text/plain": [
       "<matplotlib.figure.Figure at 0x10ddad9b0>"
      ]
     },
     "metadata": {},
     "output_type": "display_data"
    }
   ],
   "source": [
    "plt.figure(figsize=(11,4))\n",
    "plt.subplot(121)\n",
    "plot_decision_boundary(tree_clf, X, y)\n",
    "plt.title(\"Decision Tree\", fontsize=14)\n",
    "plt.subplot(122)\n",
    "plot_decision_boundary(bag_clf, X, y)\n",
    "plt.title(\"Decision Trees with Bagging\", fontsize=14)\n",
    "save_fig(\"decision_tree_without_and_with_bagging_plot\")\n",
    "plt.show()"
   ]
  },
  {
   "cell_type": "markdown",
   "metadata": {},
   "source": [
    "Bootstrapping introduces a bit more diversity in the subsets that each predictor is trained on, so bagging ends up with a slightly higher bias than pasting, but this also means that predictors end up being less correlated so the ensemble’s variance is reduced. \n",
    "\n",
    "Overall, bagging often results in better models, which explains why it is generally preferred."
   ]
  },
  {
   "cell_type": "code",
   "execution_count": 39,
   "metadata": {},
   "outputs": [
    {
     "name": "stderr",
     "output_type": "stream",
     "text": [
      "/Users/shahrukh/Code/Home/Machine_Learning/env/lib/python3.6/site-packages/matplotlib/contour.py:967: UserWarning: The following kwargs were not used by contour: 'linewidth'\n",
      "  s)\n"
     ]
    },
    {
     "data": {
      "image/png": "[encoded data removed]",
      "text/plain": [
       "<matplotlib.figure.Figure at 0x10dd86fd0>"
      ]
     },
     "metadata": {},
     "output_type": "display_data"
    }
   ],
   "source": [
    "plt.figure(figsize=(6, 4))\n",
    "\n",
    "for i in range(15):\n",
    "    tree_clf = DecisionTreeClassifier(max_leaf_nodes=16, random_state=42 + i)\n",
    "    indices_with_replacement = np.random.randint(0, len(X_train), len(X_train))\n",
    "    tree_clf.fit(X[indices_with_replacement], y[indices_with_replacement])\n",
    "    plot_decision_boundary(tree_clf, X, y, axes=[-1.5, 2.5, -1, 1.5], alpha=0.02, contour=False)\n",
    "\n",
    "plt.show()"
   ]
  },
  {
   "cell_type": "markdown",
   "metadata": {},
   "source": [
    "## Out of Bag Evaluation\n",
    "\n",
    "With bagging, some instances may be sampled several times for any given predictor, while others may not be sampled at all. \n",
    "**By default a BaggingClassifier samples m training instances with replacement (bootstrap=True), where m is the size of the training set**\n",
    "\n",
    "\n",
    "This means that only about 63% of the training instances are sampled on average for each predictor. \n",
    "**As m grows, this ratio approaches 1 – exp(–1) ≈ 63.212%.**\n",
    "The remaining 37% of the training instances that are not sampled are called out-of-bag (oob) instances. Note that they are not the same 37% for all predictors.\n"
   ]
  },
  {
   "cell_type": "markdown",
   "metadata": {},
   "source": [
    "**Since a predictor never sees the oob instances during training, it can be evaluated on these instances, without the need for a separate validation set or cross-validation. You can evaluate the ensemble itself by averaging out the oob evaluations of each predictor.\n",
    "In Scikit-Learn, you can set oob_score=True when creating a BaggingClassifier to request an\n",
    "automatic oob evaluation after training. **\n",
    "\n",
    "The following code demonstrates this. The resulting evaluation score is available through the **oob\\_score\\_** variable:"
   ]
  },
  {
   "cell_type": "code",
   "execution_count": 16,
   "metadata": {},
   "outputs": [
    {
     "data": {
      "text/plain": [
       "0.8933333333333333"
      ]
     },
     "execution_count": 16,
     "metadata": {},
     "output_type": "execute_result"
    }
   ],
   "source": [
    "bag_clf = BaggingClassifier( \n",
    "    DecisionTreeClassifier(), \n",
    "    n_estimators=500, \n",
    "    bootstrap=True, \n",
    "    n_jobs=-1, \n",
    "    oob_score=True)\n",
    "bag_clf.fit(X_train, y_train) \n",
    "bag_clf.oob_score_"
   ]
  },
  {
   "cell_type": "code",
   "execution_count": 17,
   "metadata": {},
   "outputs": [
    {
     "data": {
      "text/plain": [
       "0.92"
      ]
     },
     "execution_count": 17,
     "metadata": {},
     "output_type": "execute_result"
    }
   ],
   "source": [
    "from sklearn.metrics import accuracy_score\n",
    "y_pred = bag_clf.predict(X_test)\n",
    "accuracy_score(y_test, y_pred)\n"
   ]
  },
  {
   "cell_type": "markdown",
   "metadata": {},
   "source": [
    "The oob decision function for each training instance is also available through the **oob_decision_function_** variable. \n",
    "In this case (since the base estimator has a predict_proba()\n",
    "method) the decision function returns the class probabilities for each training instance."
   ]
  },
  {
   "cell_type": "code",
   "execution_count": 18,
   "metadata": {},
   "outputs": [
    {
     "data": {
      "text/plain": [
       "array([[0.34536082, 0.65463918],\n",
       "       [0.41621622, 0.58378378],\n",
       "       [1.        , 0.        ],\n",
       "       [0.        , 1.        ],\n",
       "       [0.        , 1.        ],\n",
       "       [0.07303371, 0.92696629],\n",
       "       [0.4       , 0.6       ],\n",
       "       [0.01530612, 0.98469388],\n",
       "       [1.        , 0.        ],\n",
       "       [0.99428571, 0.00571429],\n",
       "       [0.77297297, 0.22702703],\n",
       "       [0.        , 1.        ],\n",
       "       [0.75842697, 0.24157303],\n",
       "       [0.82539683, 0.17460317],\n",
       "       [0.96610169, 0.03389831],\n",
       "       [0.06358382, 0.93641618],\n",
       "       [0.00574713, 0.99425287],\n",
       "       [0.96590909, 0.03409091],\n",
       "       [0.94152047, 0.05847953],\n",
       "       [0.9787234 , 0.0212766 ],\n",
       "       [0.03508772, 0.96491228],\n",
       "       [0.36612022, 0.63387978],\n",
       "       [0.8972973 , 0.1027027 ],\n",
       "       [1.        , 0.        ],\n",
       "       [0.96590909, 0.03409091],\n",
       "       [0.        , 1.        ],\n",
       "       [0.99470899, 0.00529101],\n",
       "       [1.        , 0.        ],\n",
       "       [0.        , 1.        ],\n",
       "       [0.75280899, 0.24719101],\n",
       "       [0.        , 1.        ],\n",
       "       [1.        , 0.        ],\n",
       "       [0.        , 1.        ],\n",
       "       [0.        , 1.        ],\n",
       "       [0.16292135, 0.83707865],\n",
       "       [1.        , 0.        ],\n",
       "       [0.        , 1.        ],\n",
       "       [0.44565217, 0.55434783],\n",
       "       [0.        , 1.        ],\n",
       "       [1.        , 0.        ],\n",
       "       [0.20111732, 0.79888268],\n",
       "       [0.3423913 , 0.6576087 ],\n",
       "       [1.        , 0.        ],\n",
       "       [1.        , 0.        ],\n",
       "       [0.        , 1.        ],\n",
       "       [1.        , 0.        ],\n",
       "       [1.        , 0.        ],\n",
       "       [0.01932367, 0.98067633],\n",
       "       [1.        , 0.        ],\n",
       "       [0.01162791, 0.98837209],\n",
       "       [0.98507463, 0.01492537],\n",
       "       [0.89010989, 0.10989011],\n",
       "       [0.96022727, 0.03977273],\n",
       "       [0.97536946, 0.02463054],\n",
       "       [0.        , 1.        ],\n",
       "       [0.04255319, 0.95744681],\n",
       "       [0.98901099, 0.01098901],\n",
       "       [0.        , 1.        ],\n",
       "       [0.        , 1.        ],\n",
       "       [0.00526316, 0.99473684],\n",
       "       [0.99453552, 0.00546448],\n",
       "       [0.7688172 , 0.2311828 ],\n",
       "       [0.43850267, 0.56149733],\n",
       "       [0.99447514, 0.00552486],\n",
       "       [0.        , 1.        ],\n",
       "       [0.65697674, 0.34302326],\n",
       "       [1.        , 0.        ],\n",
       "       [1.        , 0.        ],\n",
       "       [0.86413043, 0.13586957],\n",
       "       [1.        , 0.        ],\n",
       "       [0.64179104, 0.35820896],\n",
       "       [0.14857143, 0.85142857],\n",
       "       [0.66666667, 0.33333333],\n",
       "       [0.88717949, 0.11282051],\n",
       "       [0.        , 1.        ],\n",
       "       [0.1758794 , 0.8241206 ],\n",
       "       [0.86666667, 0.13333333],\n",
       "       [1.        , 0.        ],\n",
       "       [0.        , 1.        ],\n",
       "       [0.99450549, 0.00549451],\n",
       "       [0.        , 1.        ],\n",
       "       [0.02590674, 0.97409326],\n",
       "       [0.03703704, 0.96296296],\n",
       "       [0.30434783, 0.69565217],\n",
       "       [1.        , 0.        ],\n",
       "       [0.00537634, 0.99462366],\n",
       "       [0.84946237, 0.15053763],\n",
       "       [0.        , 1.        ],\n",
       "       [0.00568182, 0.99431818],\n",
       "       [0.        , 1.        ],\n",
       "       [0.24479167, 0.75520833],\n",
       "       [1.        , 0.        ],\n",
       "       [0.        , 1.        ],\n",
       "       [0.        , 1.        ],\n",
       "       [0.        , 1.        ],\n",
       "       [0.93678161, 0.06321839],\n",
       "       [0.77948718, 0.22051282],\n",
       "       [0.        , 1.        ],\n",
       "       [1.        , 0.        ],\n",
       "       [0.15428571, 0.84571429],\n",
       "       [0.64130435, 0.35869565],\n",
       "       [0.        , 1.        ],\n",
       "       [0.02994012, 0.97005988],\n",
       "       [0.51871658, 0.48128342],\n",
       "       [1.        , 0.        ],\n",
       "       [0.01492537, 0.98507463],\n",
       "       [1.        , 0.        ],\n",
       "       [0.22905028, 0.77094972],\n",
       "       [0.5       , 0.5       ],\n",
       "       [1.        , 0.        ],\n",
       "       [0.02072539, 0.97927461],\n",
       "       [0.97883598, 0.02116402],\n",
       "       [0.28648649, 0.71351351],\n",
       "       [0.85380117, 0.14619883],\n",
       "       [1.        , 0.        ],\n",
       "       [1.        , 0.        ],\n",
       "       [0.        , 1.        ],\n",
       "       [0.        , 1.        ],\n",
       "       [0.81967213, 0.18032787],\n",
       "       [1.        , 0.        ],\n",
       "       [0.        , 1.        ],\n",
       "       [1.        , 0.        ],\n",
       "       [0.99401198, 0.00598802],\n",
       "       [1.        , 0.        ],\n",
       "       [1.        , 0.        ],\n",
       "       [1.        , 0.        ],\n",
       "       [0.        , 1.        ],\n",
       "       [0.92972973, 0.07027027],\n",
       "       [1.        , 0.        ],\n",
       "       [0.03225806, 0.96774194],\n",
       "       [0.18232044, 0.81767956],\n",
       "       [0.97252747, 0.02747253],\n",
       "       [0.33928571, 0.66071429],\n",
       "       [0.98876404, 0.01123596],\n",
       "       [0.        , 1.        ],\n",
       "       [0.        , 1.        ],\n",
       "       [0.71428571, 0.28571429],\n",
       "       [0.40932642, 0.59067358],\n",
       "       [0.44970414, 0.55029586],\n",
       "       [0.85492228, 0.14507772],\n",
       "       [0.92820513, 0.07179487],\n",
       "       [0.05714286, 0.94285714],\n",
       "       [0.82513661, 0.17486339],\n",
       "       [0.005     , 0.995     ],\n",
       "       [0.        , 1.        ],\n",
       "       [0.03614458, 0.96385542],\n",
       "       [0.97014925, 0.02985075],\n",
       "       [1.        , 0.        ],\n",
       "       [1.        , 0.        ],\n",
       "       [0.        , 1.        ],\n",
       "       [0.        , 1.        ],\n",
       "       [0.00537634, 0.99462366],\n",
       "       [0.        , 1.        ],\n",
       "       [1.        , 0.        ],\n",
       "       [1.        , 0.        ],\n",
       "       [0.93779904, 0.06220096],\n",
       "       [1.        , 0.        ],\n",
       "       [1.        , 0.        ],\n",
       "       [1.        , 0.        ],\n",
       "       [0.        , 1.        ],\n",
       "       [0.37113402, 0.62886598],\n",
       "       [0.31914894, 0.68085106],\n",
       "       [0.00574713, 0.99425287],\n",
       "       [0.        , 1.        ],\n",
       "       [0.27      , 0.73      ],\n",
       "       [1.        , 0.        ],\n",
       "       [1.        , 0.        ],\n",
       "       [0.        , 1.        ],\n",
       "       [1.        , 0.        ],\n",
       "       [0.        , 1.        ],\n",
       "       [0.        , 1.        ],\n",
       "       [0.98895028, 0.01104972],\n",
       "       [0.        , 1.        ],\n",
       "       [0.        , 1.        ],\n",
       "       [1.        , 0.        ],\n",
       "       [0.01015228, 0.98984772],\n",
       "       [0.59444444, 0.40555556],\n",
       "       [0.85638298, 0.14361702],\n",
       "       [0.00578035, 0.99421965],\n",
       "       [1.        , 0.        ],\n",
       "       [1.        , 0.        ],\n",
       "       [1.        , 0.        ],\n",
       "       [0.        , 1.        ],\n",
       "       [0.        , 1.        ],\n",
       "       [1.        , 0.        ],\n",
       "       [0.0855615 , 0.9144385 ],\n",
       "       [1.        , 0.        ],\n",
       "       [0.03389831, 0.96610169],\n",
       "       [0.        , 1.        ],\n",
       "       [1.        , 0.        ],\n",
       "       [0.        , 1.        ],\n",
       "       [0.02424242, 0.97575758],\n",
       "       [1.        , 0.        ],\n",
       "       [0.93989071, 0.06010929],\n",
       "       [0.71052632, 0.28947368],\n",
       "       [0.58421053, 0.41578947],\n",
       "       [0.        , 1.        ],\n",
       "       [0.18579235, 0.81420765],\n",
       "       [1.        , 0.        ],\n",
       "       [0.93121693, 0.06878307],\n",
       "       [0.97354497, 0.02645503],\n",
       "       [1.        , 0.        ],\n",
       "       [0.00609756, 0.99390244],\n",
       "       [0.        , 1.        ],\n",
       "       [0.40816327, 0.59183673],\n",
       "       [0.8655914 , 0.1344086 ],\n",
       "       [0.        , 1.        ],\n",
       "       [0.        , 1.        ],\n",
       "       [1.        , 0.        ],\n",
       "       [0.005     , 0.995     ],\n",
       "       [0.00581395, 0.99418605],\n",
       "       [0.97159091, 0.02840909],\n",
       "       [0.        , 1.        ],\n",
       "       [0.26708075, 0.73291925],\n",
       "       [0.        , 1.        ],\n",
       "       [1.        , 0.        ],\n",
       "       [0.        , 1.        ],\n",
       "       [0.        , 1.        ],\n",
       "       [0.97619048, 0.02380952],\n",
       "       [0.83068783, 0.16931217],\n",
       "       [1.        , 0.        ],\n",
       "       [0.        , 1.        ],\n",
       "       [0.07936508, 0.92063492],\n",
       "       [1.        , 0.        ],\n",
       "       [0.        , 1.        ],\n",
       "       [0.        , 1.        ],\n",
       "       [0.05319149, 0.94680851],\n",
       "       [1.        , 0.        ],\n",
       "       [0.75935829, 0.24064171],\n",
       "       [0.00581395, 0.99418605],\n",
       "       [0.88235294, 0.11764706],\n",
       "       [0.98324022, 0.01675978],\n",
       "       [0.19254658, 0.80745342],\n",
       "       [0.1902439 , 0.8097561 ],\n",
       "       [1.        , 0.        ],\n",
       "       [0.        , 1.        ],\n",
       "       [0.        , 1.        ],\n",
       "       [0.        , 1.        ],\n",
       "       [0.26136364, 0.73863636],\n",
       "       [0.97109827, 0.02890173],\n",
       "       [0.        , 1.        ],\n",
       "       [1.        , 0.        ],\n",
       "       [0.99450549, 0.00549451],\n",
       "       [0.        , 1.        ],\n",
       "       [0.47849462, 0.52150538],\n",
       "       [1.        , 0.        ],\n",
       "       [0.        , 1.        ],\n",
       "       [1.        , 0.        ],\n",
       "       [0.        , 1.        ],\n",
       "       [0.        , 1.        ],\n",
       "       [0.08333333, 0.91666667],\n",
       "       [0.10204082, 0.89795918],\n",
       "       [0.98930481, 0.01069519],\n",
       "       [0.00581395, 0.99418605],\n",
       "       [1.        , 0.        ],\n",
       "       [0.44021739, 0.55978261],\n",
       "       [0.09852217, 0.90147783],\n",
       "       [0.53296703, 0.46703297],\n",
       "       [0.62011173, 0.37988827],\n",
       "       [0.        , 1.        ],\n",
       "       [1.        , 0.        ],\n",
       "       [0.        , 1.        ],\n",
       "       [0.        , 1.        ],\n",
       "       [0.62944162, 0.37055838],\n",
       "       [0.        , 1.        ],\n",
       "       [1.        , 0.        ],\n",
       "       [0.22159091, 0.77840909],\n",
       "       [0.79187817, 0.20812183],\n",
       "       [0.05681818, 0.94318182],\n",
       "       [1.        , 0.        ],\n",
       "       [0.83173077, 0.16826923],\n",
       "       [0.        , 1.        ],\n",
       "       [0.00546448, 0.99453552],\n",
       "       [0.14361702, 0.85638298],\n",
       "       [0.00546448, 0.99453552],\n",
       "       [0.        , 1.        ],\n",
       "       [0.99479167, 0.00520833],\n",
       "       [0.89784946, 0.10215054],\n",
       "       [0.17486339, 0.82513661],\n",
       "       [0.94270833, 0.05729167],\n",
       "       [0.00502513, 0.99497487],\n",
       "       [0.61452514, 0.38547486],\n",
       "       [0.06703911, 0.93296089],\n",
       "       [0.97368421, 0.02631579],\n",
       "       [0.81122449, 0.18877551],\n",
       "       [0.        , 1.        ],\n",
       "       [0.99468085, 0.00531915],\n",
       "       [0.95959596, 0.04040404],\n",
       "       [0.        , 1.        ],\n",
       "       [0.        , 1.        ],\n",
       "       [1.        , 0.        ],\n",
       "       [0.        , 1.        ],\n",
       "       [1.        , 0.        ],\n",
       "       [0.25668449, 0.74331551],\n",
       "       [0.9952381 , 0.0047619 ],\n",
       "       [1.        , 0.        ],\n",
       "       [0.        , 1.        ],\n",
       "       [0.        , 1.        ],\n",
       "       [0.91282051, 0.08717949],\n",
       "       [0.        , 1.        ],\n",
       "       [1.        , 0.        ],\n",
       "       [0.81325301, 0.18674699],\n",
       "       [0.96774194, 0.03225806],\n",
       "       [1.        , 0.        ],\n",
       "       [0.73714286, 0.26285714],\n",
       "       [0.56284153, 0.43715847],\n",
       "       [0.        , 1.        ],\n",
       "       [0.91370558, 0.08629442],\n",
       "       [0.        , 1.        ],\n",
       "       [1.        , 0.        ],\n",
       "       [0.82446809, 0.17553191],\n",
       "       [1.        , 0.        ],\n",
       "       [1.        , 0.        ],\n",
       "       [0.715     , 0.285     ],\n",
       "       [0.13157895, 0.86842105],\n",
       "       [0.47530864, 0.52469136],\n",
       "       [0.23888889, 0.76111111],\n",
       "       [0.        , 1.        ],\n",
       "       [0.86486486, 0.13513514],\n",
       "       [0.83957219, 0.16042781],\n",
       "       [0.0052356 , 0.9947644 ],\n",
       "       [1.        , 0.        ],\n",
       "       [0.99421965, 0.00578035],\n",
       "       [1.        , 0.        ],\n",
       "       [0.        , 1.        ],\n",
       "       [0.04571429, 0.95428571],\n",
       "       [0.96666667, 0.03333333],\n",
       "       [0.93467337, 0.06532663],\n",
       "       [1.        , 0.        ],\n",
       "       [0.54010695, 0.45989305],\n",
       "       [1.        , 0.        ],\n",
       "       [0.00588235, 0.99411765],\n",
       "       [0.97191011, 0.02808989],\n",
       "       [0.02717391, 0.97282609],\n",
       "       [1.        , 0.        ],\n",
       "       [1.        , 0.        ],\n",
       "       [1.        , 0.        ],\n",
       "       [0.        , 1.        ],\n",
       "       [0.94871795, 0.05128205],\n",
       "       [0.        , 1.        ],\n",
       "       [0.11363636, 0.88636364],\n",
       "       [0.        , 1.        ],\n",
       "       [0.        , 1.        ],\n",
       "       [1.        , 0.        ],\n",
       "       [1.        , 0.        ],\n",
       "       [0.        , 1.        ],\n",
       "       [1.        , 0.        ],\n",
       "       [0.00518135, 0.99481865],\n",
       "       [1.        , 0.        ],\n",
       "       [0.16292135, 0.83707865],\n",
       "       [0.        , 1.        ],\n",
       "       [0.        , 1.        ],\n",
       "       [0.        , 1.        ],\n",
       "       [0.38916256, 0.61083744],\n",
       "       [0.08133971, 0.91866029],\n",
       "       [0.22988506, 0.77011494],\n",
       "       [1.        , 0.        ],\n",
       "       [0.97802198, 0.02197802],\n",
       "       [0.22285714, 0.77714286],\n",
       "       [0.98369565, 0.01630435],\n",
       "       [0.        , 1.        ],\n",
       "       [0.00518135, 0.99481865],\n",
       "       [1.        , 0.        ],\n",
       "       [0.96685083, 0.03314917],\n",
       "       [0.37912088, 0.62087912],\n",
       "       [0.97826087, 0.02173913],\n",
       "       [1.        , 0.        ],\n",
       "       [0.        , 1.        ],\n",
       "       [1.        , 0.        ],\n",
       "       [0.        , 1.        ],\n",
       "       [0.03398058, 0.96601942],\n",
       "       [0.99431818, 0.00568182],\n",
       "       [1.        , 0.        ],\n",
       "       [0.05714286, 0.94285714],\n",
       "       [0.62702703, 0.37297297]])"
      ]
     },
     "execution_count": 18,
     "metadata": {},
     "output_type": "execute_result"
    }
   ],
   "source": [
    "bag_clf.oob_decision_function_"
   ]
  },
  {
   "cell_type": "markdown",
   "metadata": {},
   "source": [
    "The oob evaluation estimates that the second training instance has a 41.6% probability of belonging to the positive class (and 58.37% of belonging to the positive class)"
   ]
  },
  {
   "cell_type": "markdown",
   "metadata": {},
   "source": [
    "## Random Patches and Random Subspaces"
   ]
  },
  {
   "cell_type": "markdown",
   "metadata": {},
   "source": [
    "The BaggingClassifier class supports sampling the features as well. This is controlled by two hyperparameters: **max_features and bootstrap_features**.\n",
    "They work the same way as max_samples and bootstrap, but for feature sampling instead of instance sampling. Thus, each predictor will be trained on a random subset of the input features."
   ]
  },
  {
   "cell_type": "markdown",
   "metadata": {},
   "source": [
    "+ This is particularly useful when you are dealing with high-dimensional inputs (such as images). \n",
    "+ Sampling both training instances and features is called the **Random Patches method**. \n",
    "+ Keeping all training instances **(i.e., bootstrap=False and max_samples=1.0)** but sampling features **(i.e., bootstrap_features=True and/or max_features smaller than 1.0)** is called the **Random Subspaces method**.\n",
    "+ Sampling features results in even more predictor diversity, trading a bit more bias for a lower variance."
   ]
  },
  {
   "cell_type": "markdown",
   "metadata": {},
   "source": [
    "## Random Forests\n",
    "\n",
    "+ Random Forest is an ensemble of Decision Trees, \n",
    "+ generally trained via the bagging method (or sometimes pasting), typically with max_samples set to the size of the training set.\n",
    "+ Instead of building a BaggingClassifier and passing it a DecisionTreeClassifier, you can instead use the **RandomForestClassifier class**, which is more convenient and optimized for Decision Trees\n",
    "+ Similarly, there is a RandomForestRegressor class for regression tasks.\n",
    "\n",
    "The following code trains a Random  Forest classifier with 500 trees (each limited to maximum 16 nodes), using all available CPU\n",
    "cores:"
   ]
  },
  {
   "cell_type": "code",
   "execution_count": 19,
   "metadata": {},
   "outputs": [],
   "source": [
    "from sklearn.ensemble import RandomForestClassifier\n",
    "\n",
    "rnd_clf = RandomForestClassifier(n_estimators=500, max_leaf_nodes=16, n_jobs=-1)\n",
    "\n",
    "rnd_clf.fit(X_train, y_train)\n",
    "y_pred_rf = rnd_clf.predict(X_test)"
   ]
  },
  {
   "cell_type": "markdown",
   "metadata": {},
   "source": [
    "+ The Random Forest algorithm introduces extra randomness when growing trees; instead of searching for the very best feature when splitting a node, \n",
    "+ It searches for the best feature among a random subset of features. This results in a greater tree diversity, which (once again) trades a higher bias for a lower variance, generally yielding an overall better model."
   ]
  },
  {
   "cell_type": "code",
   "execution_count": 20,
   "metadata": {},
   "outputs": [],
   "source": [
    "bag_clf = BaggingClassifier(\n",
    "    DecisionTreeClassifier(splitter=\"random\", max_leaf_nodes=16, random_state=42),\n",
    "    n_estimators=500, max_samples=1.0, bootstrap=True, n_jobs=-1, random_state=42)"
   ]
  },
  {
   "cell_type": "code",
   "execution_count": 21,
   "metadata": {},
   "outputs": [],
   "source": [
    "bag_clf.fit(X_train, y_train)\n",
    "y_pred = bag_clf.predict(X_test)"
   ]
  },
  {
   "cell_type": "code",
   "execution_count": 22,
   "metadata": {},
   "outputs": [
    {
     "data": {
      "text/plain": [
       "0.984"
      ]
     },
     "execution_count": 22,
     "metadata": {},
     "output_type": "execute_result"
    }
   ],
   "source": [
    "np.sum(y_pred == y_pred_rf) / len(y_pred)  # almost identical predictions\n"
   ]
  },
  {
   "cell_type": "markdown",
   "metadata": {},
   "source": [
    "+ When you are growing a tree in a Random Forest, at each node only a random subset of the features is considered for splitting .\n",
    "+ It is possible to make trees even more random by also using random thresholds for each feature rather than searching for the best possible thresholds (like regular Decision Trees do).\n",
    "+ A forest of such extremely random trees is simply called an **Extremely Randomized Trees ensemble** (or Extra-Trees for short). \n",
    "+ Once again, this trades more bias for a lower variance.\n",
    "+ It also makes Extra-Trees much faster to train than regular Random Forests since finding the best possible threshold for each feature at every node is one of the most time-consuming tasks of growing a tree."
   ]
  },
  {
   "cell_type": "markdown",
   "metadata": {},
   "source": [
    "**It is hard to tell in advance whether a RandomForestClassifier will perform better or worse than an ExtraTreesClassifier.\n",
    "Generally, the only way to know is to try both and compare them using cross-validation (and tuning the hyperparameters using\n",
    "grid search).**"
   ]
  },
  {
   "cell_type": "markdown",
   "metadata": {},
   "source": [
    "## Feature Importance\n",
    "\n",
    "+ If you look at a single Decision Tree, important features are likely to appear closer to the root of the tree, \n",
    "+ While unimportant features will often appear closer to the leaves (or not at all). \n",
    "+ It is therefore possible to get an estimate of a feature’s importance by computing the average depth at which it appears across all trees in the forest. \n",
    "+ Scikit-Learn computes this automatically for every feature after training. \n",
    "+ You can access the result using the feature_importances_ variable. \n",
    "\n",
    "\n",
    "For example, the following code trains a RandomForestClassifier on the iris dataset and outputs each feature’s importance. It seems that the most important features are the petal length (44%) and width (42%), while\n",
    "sepal length and width are rather unimportant in comparison (11% and 2%, respectively):"
   ]
  },
  {
   "cell_type": "code",
   "execution_count": 23,
   "metadata": {},
   "outputs": [
    {
     "name": "stdout",
     "output_type": "stream",
     "text": [
      "sepal length (cm) 0.11249225099876374\n",
      "sepal width (cm) 0.023119288282510326\n",
      "petal length (cm) 0.44103046436395765\n",
      "petal width (cm) 0.4233579963547681\n"
     ]
    }
   ],
   "source": [
    "from sklearn.datasets import load_iris\n",
    "iris = load_iris()\n",
    "rnd_clf = RandomForestClassifier(n_estimators=500, n_jobs=-1, random_state=42)\n",
    "rnd_clf.fit(iris[\"data\"], iris[\"target\"])\n",
    "for name, score in zip(iris[\"feature_names\"], rnd_clf.feature_importances_):\n",
    "    print(name, score)"
   ]
  },
  {
   "cell_type": "code",
   "execution_count": 24,
   "metadata": {},
   "outputs": [
    {
     "data": {
      "text/plain": [
       "RandomForestClassifier(bootstrap=True, class_weight=None, criterion='gini',\n",
       "            max_depth=None, max_features='auto', max_leaf_nodes=None,\n",
       "            min_impurity_decrease=0.0, min_impurity_split=None,\n",
       "            min_samples_leaf=1, min_samples_split=2,\n",
       "            min_weight_fraction_leaf=0.0, n_estimators=10, n_jobs=1,\n",
       "            oob_score=False, random_state=42, verbose=0, warm_start=False)"
      ]
     },
     "execution_count": 24,
     "metadata": {},
     "output_type": "execute_result"
    }
   ],
   "source": [
    "from sklearn.datasets import fetch_mldata\n",
    "mnist = fetch_mldata('MNIST original')\n",
    "\n",
    "\n",
    "rnd_clf = RandomForestClassifier(random_state=42)\n",
    "rnd_clf.fit(mnist[\"data\"], mnist[\"target\"])"
   ]
  },
  {
   "cell_type": "code",
   "execution_count": 25,
   "metadata": {},
   "outputs": [],
   "source": [
    "def plot_digit(data):\n",
    "    image = data.reshape(28, 28)\n",
    "    plt.imshow(image, cmap = matplotlib.cm.hot,\n",
    "               interpolation=\"nearest\")\n",
    "    plt.axis(\"off\")"
   ]
  },
  {
   "cell_type": "code",
   "execution_count": 26,
   "metadata": {},
   "outputs": [
    {
     "name": "stdout",
     "output_type": "stream",
     "text": [
      "Saving figure mnist_feature_importance_plot\n"
     ]
    },
    {
     "data": {
      "image/png": "[encoded data removed]",
      "text/plain": [
       "<matplotlib.figure.Figure at 0x10fbc9a20>"
      ]
     },
     "metadata": {},
     "output_type": "display_data"
    }
   ],
   "source": [
    "\n",
    "plot_digit(rnd_clf.feature_importances_)\n",
    "\n",
    "cbar = plt.colorbar(ticks=[rnd_clf.feature_importances_.min(), rnd_clf.feature_importances_.max()])\n",
    "cbar.ax.set_yticklabels(['Not important', 'Very important'])\n",
    "\n",
    "save_fig(\"mnist_feature_importance_plot\")\n",
    "plt.show()"
   ]
  },
  {
   "cell_type": "markdown",
   "metadata": {},
   "source": [
    " **Random Forests are very handy to get a quick understanding of what features actually matter, in particular\n",
    "if you need to perform feature selection**"
   ]
  },
  {
   "cell_type": "markdown",
   "metadata": {},
   "source": [
    " ### Boosting\n",
    " \n",
    "+ Boosting (originally called hypothesis boosting) refers to any Ensemble method that can combine several weak learners into a strong learner. \n",
    "+ The general idea of most boosting methods is to train predictors sequentially, each trying to correct its predecessor.\n",
    " \n",
    " "
   ]
  },
  {
   "attachments": {},
   "cell_type": "markdown",
   "metadata": {},
   "source": [
    "#### AdaBoost\n",
    "\n",
    "+ To build an **AdaBoost classifier**, a first base classifier (such as a Decision Tree) is trained and used to make predictions on the training set.\n",
    "+ The relative weight of misclassified training instances is then increased.\n",
    "+ A second classifier is trained using the updated weights and again it makes predictions on the training set, weights are updated, and so on\n",
    "\n",
    "![image.png](images/adaboost.png)"
   ]
  },
  {
   "cell_type": "markdown",
   "metadata": {},
   "source": [
    "**There is one important drawback to this sequential learning technique: it cannot be parallelized (or only partially), since each\n",
    "predictor can only be trained after the previous predictor has been trained and evaluated. As a result, it does not scale as well as\n",
    "bagging or pasting.**"
   ]
  },
  {
   "attachments": {},
   "cell_type": "markdown",
   "metadata": {},
   "source": [
    "In the AdaBoost algorithm - \n",
    "\n",
    "+ Each instance weight w(i) is initially set to 1/m . \n",
    "+ A first predictor is trained and its weighted error rate r<sub>1</sub> is computed on the training set.\n",
    "\n",
    "![image.png](images/adaboosteqn.png)"
   ]
  },
  {
   "cell_type": "markdown",
   "metadata": {},
   "source": [
    "+ The predictor’s weight α<sub>j</sub> is then computed using below Equation, where η is the learning rate hyperparameter (defaults to 1).\n",
    "+ The more accurate the predictor is, the higher its weight will be. If it is just guessing randomly, then its weight will be close to zero. \n",
    "+ However, if it is most often wrong (i.e., less accurate than random guessing), then its weight will be negative"
   ]
  },
  {
   "attachments": {},
   "cell_type": "markdown",
   "metadata": {},
   "source": [
    "![image.png](images/predictorsweight.png)"
   ]
  },
  {
   "attachments": {},
   "cell_type": "markdown",
   "metadata": {},
   "source": [
    "The instance weights are then updated as \n",
    "\n",
    "![image.png](images/weightupdate.png)"
   ]
  },
  {
   "cell_type": "markdown",
   "metadata": {},
   "source": [
    "**Then all the instance weights are normalized ie divided by the sum of all the weights**"
   ]
  },
  {
   "attachments": {},
   "cell_type": "markdown",
   "metadata": {},
   "source": [
    "Finally, a new predictor is trained using the updated weights, and the whole process is repeated (\n",
    "+ the new predictor’s weight is computed, \n",
    "+ the instance weights are updated, \n",
    "+ then another predictor is trained, \n",
    "+ and so on). \n",
    "\n",
    "The algorithm stops when the desired number of predictors is reached, or when a perfect predictor is found.\n",
    "\n",
    "\n",
    "To make predictions, AdaBoost simply computes the predictions of all the predictors and weighs them using the predictor weights α<sub>j</sub>. The predicted class is the one that receives the majority of weighted votes\n",
    "\n",
    "![image.png](images/adaboostprediction.png)"
   ]
  },
  {
   "cell_type": "markdown",
   "metadata": {},
   "source": [
    "*Scikit-Learn actually uses a multiclass version of AdaBoost called SAMME16 (which stands for\n",
    "Stagewise Additive Modeling using a Multiclass Exponential loss function). When there are just two\n",
    "classes, SAMME is equivalent to AdaBoost. Moreover, if the predictors can estimate class probabilities\n",
    "(i.e., if they have a predict_proba() method), Scikit-Learn can use a variant of SAMME called\n",
    "SAMME.R (the R stands for “Real”), which relies on class probabilities rather than predictions and\n",
    "generally performs better.*"
   ]
  },
  {
   "cell_type": "markdown",
   "metadata": {},
   "source": [
    "+ The following code trains an AdaBoost classifier based on 200 Decision Stumps using Scikit-Learn’s AdaBoostClassifier class (as you might expect, there is also an AdaBoostRegressor class).\n",
    "+ A Decision Stump is a Decision Tree with max_depth=1, in other words, a tree composed of a single decision node plus two leaf nodes.\n",
    "+ This is the default base estimator for the AdaBoostClassifier class:"
   ]
  },
  {
   "cell_type": "code",
   "execution_count": 27,
   "metadata": {},
   "outputs": [
    {
     "data": {
      "text/plain": [
       "AdaBoostClassifier(algorithm='SAMME.R',\n",
       "          base_estimator=DecisionTreeClassifier(class_weight=None, criterion='gini', max_depth=1,\n",
       "            max_features=None, max_leaf_nodes=None,\n",
       "            min_impurity_decrease=0.0, min_impurity_split=None,\n",
       "            min_samples_leaf=1, min_samples_split=2,\n",
       "            min_weight_fraction_leaf=0.0, presort=False, random_state=None,\n",
       "            splitter='best'),\n",
       "          learning_rate=0.5, n_estimators=200, random_state=None)"
      ]
     },
     "execution_count": 27,
     "metadata": {},
     "output_type": "execute_result"
    }
   ],
   "source": [
    "from sklearn.ensemble import AdaBoostClassifier\n",
    "\n",
    "ada_clf = AdaBoostClassifier(\n",
    "    DecisionTreeClassifier(max_depth=1), n_estimators=200,\n",
    "    algorithm=\"SAMME.R\", learning_rate=0.5\n",
    ")\n",
    "ada_clf.fit(X_train, y_train)"
   ]
  },
  {
   "cell_type": "markdown",
   "metadata": {},
   "source": [
    "If your AdaBoost ensemble is overfitting the training set, you can try reducing the number of estimators or more strongly\n",
    "regularizing the base estimator."
   ]
  },
  {
   "cell_type": "code",
   "execution_count": 40,
   "metadata": {},
   "outputs": [
    {
     "name": "stderr",
     "output_type": "stream",
     "text": [
      "/Users/shahrukh/Code/Home/Machine_Learning/env/lib/python3.6/site-packages/matplotlib/contour.py:967: UserWarning: The following kwargs were not used by contour: 'linewidth'\n",
      "  s)\n"
     ]
    },
    {
     "data": {
      "image/png": "[encoded data removed]",
      "text/plain": [
       "<matplotlib.figure.Figure at 0x110d686a0>"
      ]
     },
     "metadata": {},
     "output_type": "display_data"
    }
   ],
   "source": [
    "plot_decision_boundary(ada_clf, X, y)\n"
   ]
  },
  {
   "cell_type": "markdown",
   "metadata": {},
   "source": [
    "+ The below figure shows the decision boundaries of five consecutive predictors on the moons dataset (in this example, each predictor is a highly regularized SVM classifier with an RBF kernel14). \n",
    "+ The first classifier gets many instances wrong, so their weights get boosted. The second classifier therefore does a better job on these instances, and so on. \n",
    "+ The plot on the right represents the same sequence of predictors except that the learning rate is halved (i.e., the misclassified instance weights are boosted half as much at every iteration). \n",
    "+ As you can see, this sequential learning technique has some similarities with Gradient Descent, except that instead of tweaking a single predictor’s parameters to minimize a cost function, AdaBoost adds predictors to the ensemble, gradually making it better."
   ]
  },
  {
   "cell_type": "code",
   "execution_count": 41,
   "metadata": {},
   "outputs": [
    {
     "name": "stderr",
     "output_type": "stream",
     "text": [
      "/Users/shahrukh/Code/Home/Machine_Learning/env/lib/python3.6/site-packages/matplotlib/contour.py:967: UserWarning: The following kwargs were not used by contour: 'linewidth'\n",
      "  s)\n",
      "/Users/shahrukh/Code/Home/Machine_Learning/env/lib/python3.6/site-packages/matplotlib/cbook/deprecation.py:106: MatplotlibDeprecationWarning: Adding an axes using the same arguments as a previous axes currently reuses the earlier instance.  In a future version, a new instance will always be created and returned.  Meanwhile, this warning can be suppressed, and the future behavior ensured, by passing a unique label to each axes instance.\n",
      "  warnings.warn(message, mplDeprecation, stacklevel=1)\n"
     ]
    },
    {
     "name": "stdout",
     "output_type": "stream",
     "text": [
      "Saving figure boosting_plot\n"
     ]
    },
    {
     "data": {
      "image/png": "[encoded data removed]",
      "text/plain": [
       "<matplotlib.figure.Figure at 0x11920aba8>"
      ]
     },
     "metadata": {},
     "output_type": "display_data"
    }
   ],
   "source": [
    "m = len(X_train)\n",
    "\n",
    "plt.figure(figsize=(11, 4))\n",
    "for subplot, learning_rate in ((121, 1), (122, 0.5)):\n",
    "    sample_weights = np.ones(m)\n",
    "    for i in range(5):\n",
    "        plt.subplot(subplot)\n",
    "        svm_clf = SVC(kernel=\"rbf\", C=0.05, random_state=42)\n",
    "        svm_clf.fit(X_train, y_train, sample_weight=sample_weights)\n",
    "        y_pred = svm_clf.predict(X_train)\n",
    "        sample_weights[y_pred != y_train] *= (1 + learning_rate)\n",
    "        plot_decision_boundary(svm_clf, X, y, alpha=0.2)\n",
    "        plt.title(\"learning_rate = {}\".format(learning_rate), fontsize=16)\n",
    "\n",
    "plt.subplot(121)\n",
    "plt.text(-0.7, -0.65, \"1\", fontsize=14)\n",
    "plt.text(-0.6, -0.10, \"2\", fontsize=14)\n",
    "plt.text(-0.5,  0.10, \"3\", fontsize=14)\n",
    "plt.text(-0.4,  0.55, \"4\", fontsize=14)\n",
    "plt.text(-0.3,  0.90, \"5\", fontsize=14)\n",
    "save_fig(\"boosting_plot\")\n",
    "plt.show()"
   ]
  },
  {
   "cell_type": "markdown",
   "metadata": {},
   "source": [
    "#### Gradient Boosting\n",
    "\n",
    "+ Just like AdaBoost, Gradient Boosting works by sequentially adding predictors to an ensemble, each one correcting its predecessor.\n",
    "+ However, instead of tweaking the instance weights at every iteration like AdaBoost does, this method tries to fit the new predictor to the residual errors made by the previous predictor.\n",
    "\n",
    "\n",
    "\n",
    "Let’s go through a simple regression example using Decision Trees as the base predictors (of course Gradient Boosting also works great with regression tasks). This is called Gradient Tree Boosting, or\n",
    "Gradient Boosted Regression Trees (GBRT). First, let’s fit a DecisionTreeRegressor to the training set"
   ]
  },
  {
   "cell_type": "code",
   "execution_count": 55,
   "metadata": {},
   "outputs": [],
   "source": [
    "\n",
    "np.random.seed(42)\n",
    "X = np.random.rand(100, 1) - 0.5\n",
    "y = 3*X[:, 0]**2 + 0.05 * np.random.randn(100)"
   ]
  },
  {
   "cell_type": "code",
   "execution_count": 56,
   "metadata": {},
   "outputs": [
    {
     "data": {
      "text/plain": [
       "DecisionTreeRegressor(criterion='mse', max_depth=2, max_features=None,\n",
       "           max_leaf_nodes=None, min_impurity_decrease=0.0,\n",
       "           min_impurity_split=None, min_samples_leaf=1,\n",
       "           min_samples_split=2, min_weight_fraction_leaf=0.0,\n",
       "           presort=False, random_state=None, splitter='best')"
      ]
     },
     "execution_count": 56,
     "metadata": {},
     "output_type": "execute_result"
    }
   ],
   "source": [
    "from sklearn.tree import DecisionTreeRegressor\n",
    "tree_reg1 = DecisionTreeRegressor(max_depth=2)\n",
    "tree_reg1.fit(X, y)"
   ]
  },
  {
   "cell_type": "markdown",
   "metadata": {},
   "source": [
    "Now train a second DecisionTreeRegressor on the residual errors made by the first predictor:"
   ]
  },
  {
   "cell_type": "code",
   "execution_count": 57,
   "metadata": {},
   "outputs": [
    {
     "data": {
      "text/plain": [
       "DecisionTreeRegressor(criterion='mse', max_depth=2, max_features=None,\n",
       "           max_leaf_nodes=None, min_impurity_decrease=0.0,\n",
       "           min_impurity_split=None, min_samples_leaf=1,\n",
       "           min_samples_split=2, min_weight_fraction_leaf=0.0,\n",
       "           presort=False, random_state=None, splitter='best')"
      ]
     },
     "execution_count": 57,
     "metadata": {},
     "output_type": "execute_result"
    }
   ],
   "source": [
    "y2 = y - tree_reg1.predict(X)\n",
    "tree_reg2 = DecisionTreeRegressor(max_depth=2)\n",
    "tree_reg2.fit(X, y2)"
   ]
  },
  {
   "cell_type": "markdown",
   "metadata": {},
   "source": [
    "Then we train a third regressor on the residual errors made by the second predictor:"
   ]
  },
  {
   "cell_type": "code",
   "execution_count": 58,
   "metadata": {},
   "outputs": [
    {
     "data": {
      "text/plain": [
       "DecisionTreeRegressor(criterion='mse', max_depth=2, max_features=None,\n",
       "           max_leaf_nodes=None, min_impurity_decrease=0.0,\n",
       "           min_impurity_split=None, min_samples_leaf=1,\n",
       "           min_samples_split=2, min_weight_fraction_leaf=0.0,\n",
       "           presort=False, random_state=None, splitter='best')"
      ]
     },
     "execution_count": 58,
     "metadata": {},
     "output_type": "execute_result"
    }
   ],
   "source": [
    "y3 = y2 - tree_reg2.predict(X)\n",
    "tree_reg3 = DecisionTreeRegressor(max_depth=2)\n",
    "tree_reg3.fit(X, y3)"
   ]
  },
  {
   "cell_type": "markdown",
   "metadata": {},
   "source": [
    "Now we have an ensemble containing three trees. It can make predictions on a new instance simply by\n",
    "adding up the predictions of all the trees:"
   ]
  },
  {
   "cell_type": "code",
   "execution_count": 59,
   "metadata": {},
   "outputs": [],
   "source": [
    "X_new = np.array([[0.8]])\n",
    "\n",
    "y_pred = sum(tree.predict(X_new) for tree in (tree_reg1, tree_reg2, tree_reg3))"
   ]
  },
  {
   "cell_type": "code",
   "execution_count": 60,
   "metadata": {},
   "outputs": [
    {
     "name": "stdout",
     "output_type": "stream",
     "text": [
      "Saving figure gradient_boosting_plot\n"
     ]
    },
    {
     "data": {
      "image/png": "[encoded data removed]",
      "text/plain": [
       "<matplotlib.figure.Figure at 0x1194930f0>"
      ]
     },
     "metadata": {},
     "output_type": "display_data"
    }
   ],
   "source": [
    "def plot_predictions(regressors, X, y, axes, label=None, style=\"r-\", data_style=\"b.\", data_label=None):\n",
    "    x1 = np.linspace(axes[0], axes[1], 500)\n",
    "    y_pred = sum(regressor.predict(x1.reshape(-1, 1)) for regressor in regressors)\n",
    "    plt.plot(X[:, 0], y, data_style, label=data_label)\n",
    "    plt.plot(x1, y_pred, style, linewidth=2, label=label)\n",
    "    if label or data_label:\n",
    "        plt.legend(loc=\"upper center\", fontsize=16)\n",
    "    plt.axis(axes)\n",
    "\n",
    "plt.figure(figsize=(11,11))\n",
    "\n",
    "plt.subplot(321)\n",
    "plot_predictions([tree_reg1], X, y, axes=[-0.5, 0.5, -0.1, 0.8], label=\"$h_1(x_1)$\", style=\"g-\", data_label=\"Training set\")\n",
    "plt.ylabel(\"$y$\", fontsize=16, rotation=0)\n",
    "plt.title(\"Residuals and tree predictions\", fontsize=16)\n",
    "\n",
    "plt.subplot(322)\n",
    "plot_predictions([tree_reg1], X, y, axes=[-0.5, 0.5, -0.1, 0.8], label=\"$h(x_1) = h_1(x_1)$\", data_label=\"Training set\")\n",
    "plt.ylabel(\"$y$\", fontsize=16, rotation=0)\n",
    "plt.title(\"Ensemble predictions\", fontsize=16)\n",
    "\n",
    "plt.subplot(323)\n",
    "plot_predictions([tree_reg2], X, y2, axes=[-0.5, 0.5, -0.5, 0.5], label=\"$h_2(x_1)$\", style=\"g-\", data_style=\"k+\", data_label=\"Residuals\")\n",
    "plt.ylabel(\"$y - h_1(x_1)$\", fontsize=16)\n",
    "\n",
    "plt.subplot(324)\n",
    "plot_predictions([tree_reg1, tree_reg2], X, y, axes=[-0.5, 0.5, -0.1, 0.8], label=\"$h(x_1) = h_1(x_1) + h_2(x_1)$\")\n",
    "plt.ylabel(\"$y$\", fontsize=16, rotation=0)\n",
    "\n",
    "plt.subplot(325)\n",
    "plot_predictions([tree_reg3], X, y3, axes=[-0.5, 0.5, -0.5, 0.5], label=\"$h_3(x_1)$\", style=\"g-\", data_style=\"k+\")\n",
    "plt.ylabel(\"$y - h_1(x_1) - h_2(x_1)$\", fontsize=16)\n",
    "plt.xlabel(\"$x_1$\", fontsize=16)\n",
    "\n",
    "plt.subplot(326)\n",
    "plot_predictions([tree_reg1, tree_reg2, tree_reg3], X, y, axes=[-0.5, 0.5, -0.1, 0.8], label=\"$h(x_1) = h_1(x_1) + h_2(x_1) + h_3(x_1)$\")\n",
    "plt.xlabel(\"$x_1$\", fontsize=16)\n",
    "plt.ylabel(\"$y$\", fontsize=16, rotation=0)\n",
    "\n",
    "save_fig(\"gradient_boosting_plot\")\n",
    "plt.show()"
   ]
  },
  {
   "cell_type": "markdown",
   "metadata": {},
   "source": [
    "A simpler way to train GBRT ensembles is to use Scikit-Learn’s GradientBoostingRegressor class.\n",
    "Much like the RandomForestRegressor class, it has hyperparameters to control the growth of Decision\n",
    "Trees (e.g., max_depth, min_samples_leaf, and so on), as well as hyperparameters to control the\n",
    "ensemble training, such as the number of trees (n_estimators). The following code creates the same\n",
    "ensemble as the previous one:"
   ]
  },
  {
   "cell_type": "code",
   "execution_count": 62,
   "metadata": {},
   "outputs": [
    {
     "data": {
      "text/plain": [
       "GradientBoostingRegressor(alpha=0.9, criterion='friedman_mse', init=None,\n",
       "             learning_rate=1.0, loss='ls', max_depth=2, max_features=None,\n",
       "             max_leaf_nodes=None, min_impurity_decrease=0.0,\n",
       "             min_impurity_split=None, min_samples_leaf=1,\n",
       "             min_samples_split=2, min_weight_fraction_leaf=0.0,\n",
       "             n_estimators=3, presort='auto', random_state=None,\n",
       "             subsample=1.0, verbose=0, warm_start=False)"
      ]
     },
     "execution_count": 62,
     "metadata": {},
     "output_type": "execute_result"
    }
   ],
   "source": [
    "from sklearn.ensemble import GradientBoostingRegressor\n",
    "gbrt = GradientBoostingRegressor(max_depth=2, n_estimators=3, learning_rate=1.0)\n",
    "gbrt.fit(X, y)"
   ]
  },
  {
   "cell_type": "markdown",
   "metadata": {},
   "source": [
    "+ The learning_rate hyperparameter scales the contribution of each tree.\n",
    "+ If you set it to a low value, such as 0.1, you will need more trees in the ensemble to fit the training set, but the predictions will usually generalize better.\n",
    "+ This is a regularization technique called shrinkage."
   ]
  },
  {
   "cell_type": "code",
   "execution_count": 63,
   "metadata": {},
   "outputs": [
    {
     "data": {
      "text/plain": [
       "GradientBoostingRegressor(alpha=0.9, criterion='friedman_mse', init=None,\n",
       "             learning_rate=0.1, loss='ls', max_depth=2, max_features=None,\n",
       "             max_leaf_nodes=None, min_impurity_decrease=0.0,\n",
       "             min_impurity_split=None, min_samples_leaf=1,\n",
       "             min_samples_split=2, min_weight_fraction_leaf=0.0,\n",
       "             n_estimators=200, presort='auto', random_state=42,\n",
       "             subsample=1.0, verbose=0, warm_start=False)"
      ]
     },
     "execution_count": 63,
     "metadata": {},
     "output_type": "execute_result"
    }
   ],
   "source": [
    "\n",
    "gbrt_slow = GradientBoostingRegressor(max_depth=2, n_estimators=200, learning_rate=0.1, random_state=42)\n",
    "gbrt_slow.fit(X, y)"
   ]
  },
  {
   "cell_type": "markdown",
   "metadata": {},
   "source": [
    "Below figure shows two GBRT ensembles trained with a low learning rate: the one on the left does not have enough trees to fit the\n",
    "training set, while the one on the right has too many trees and overfits the training set."
   ]
  },
  {
   "cell_type": "code",
   "execution_count": 64,
   "metadata": {},
   "outputs": [
    {
     "name": "stdout",
     "output_type": "stream",
     "text": [
      "Saving figure gbrt_learning_rate_plot\n"
     ]
    },
    {
     "data": {
      "image/png": "[encoded data removed]",
      "text/plain": [
       "<matplotlib.figure.Figure at 0x119391748>"
      ]
     },
     "metadata": {},
     "output_type": "display_data"
    }
   ],
   "source": [
    "\n",
    "plt.figure(figsize=(11,4))\n",
    "\n",
    "plt.subplot(121)\n",
    "plot_predictions([gbrt], X, y, axes=[-0.5, 0.5, -0.1, 0.8], label=\"Ensemble predictions\")\n",
    "plt.title(\"learning_rate={}, n_estimators={}\".format(gbrt.learning_rate, gbrt.n_estimators), fontsize=14)\n",
    "\n",
    "plt.subplot(122)\n",
    "plot_predictions([gbrt_slow], X, y, axes=[-0.5, 0.5, -0.1, 0.8])\n",
    "plt.title(\"learning_rate={}, n_estimators={}\".format(gbrt_slow.learning_rate, gbrt_slow.n_estimators), fontsize=14)\n",
    "\n",
    "save_fig(\"gbrt_learning_rate_plot\")\n",
    "plt.show()"
   ]
  },
  {
   "attachments": {},
   "cell_type": "markdown",
   "metadata": {},
   "source": [
    "+ In order to find the optimal number of trees, you can use early stopping.\n",
    "+ A simple way to implement this is to use the staged_predict() method: it returns an iterator over the predictions made by the ensemble at each stage of training (with one tree, two trees, etc.). \n",
    "+ The following code trains a GBRT ensemble with 120 trees, then measures the validation error at each stage of training to find the optimal number of trees, and finally trains another GBRT ensemble using the optimal number of trees:"
   ]
  },
  {
   "cell_type": "code",
   "execution_count": 43,
   "metadata": {},
   "outputs": [
    {
     "data": {
      "text/plain": [
       "GradientBoostingRegressor(alpha=0.9, criterion='friedman_mse', init=None,\n",
       "             learning_rate=0.1, loss='ls', max_depth=2, max_features=None,\n",
       "             max_leaf_nodes=None, min_impurity_decrease=0.0,\n",
       "             min_impurity_split=None, min_samples_leaf=1,\n",
       "             min_samples_split=2, min_weight_fraction_leaf=0.0,\n",
       "             n_estimators=63, presort='auto', random_state=None,\n",
       "             subsample=1.0, verbose=0, warm_start=False)"
      ]
     },
     "execution_count": 43,
     "metadata": {},
     "output_type": "execute_result"
    }
   ],
   "source": [
    "import numpy as np\n",
    "\n",
    "from sklearn.model_selection import train_test_split\n",
    "from sklearn.metrics import mean_squared_error\n",
    "\n",
    "X_train, X_val, y_train, y_val = train_test_split(X, y)\n",
    "gbrt = GradientBoostingRegressor(max_depth=2, n_estimators=120)\n",
    "gbrt.fit(X_train, y_train)\n",
    "\n",
    "errors = [mean_squared_error(y_val, y_pred) for y_pred in gbrt.staged_predict(X_val)]\n",
    "bst_n_estimators = np.argmin(errors)\n",
    "\n",
    "gbrt_best = GradientBoostingRegressor(max_depth=2,n_estimators=bst_n_estimators)\n",
    "gbrt_best.fit(X_train, y_train)"
   ]
  },
  {
   "attachments": {},
   "cell_type": "markdown",
   "metadata": {},
   "source": [
    "![image.png](images/bestnestimators.png)"
   ]
  },
  {
   "cell_type": "markdown",
   "metadata": {},
   "source": [
    "+ It is also possible to implement early stopping by actually stopping training early (instead of training a large number of trees first and then looking back to find the optimal number). \n",
    "+ You can do so by setting warm_start=True, which makes Scikit-Learn keep existing trees when the fit() method is called, allowing incremental training.\n",
    "\n",
    "\n",
    "The following code stops training when the validation error does not improve for five iterations in a row:"
   ]
  },
  {
   "cell_type": "code",
   "execution_count": 38,
   "metadata": {},
   "outputs": [],
   "source": [
    "gbrt = GradientBoostingRegressor(max_depth=2, warm_start=True)\n",
    "\n",
    "min_val_error = float(\"inf\")\n",
    "error_going_up = 0\n",
    "\n",
    "for n_estimators in range(1, 120):\n",
    "    gbrt.n_estimators = n_estimators\n",
    "    gbrt.fit(X_train, y_train)\n",
    "    y_pred = gbrt.predict(X_val)\n",
    "    val_error = mean_squared_error(y_val, y_pred)\n",
    "    if val_error < min_val_error:\n",
    "        min_val_error = val_error\n",
    "        error_going_up = 0\n",
    "    else:\n",
    "        error_going_up += 1\n",
    "        if error_going_up == 5:\n",
    "            break # early stopping"
   ]
  },
  {
   "cell_type": "markdown",
   "metadata": {},
   "source": [
    "+ The GradientBoostingRegressor class also supports a subsample hyperparameter, which specifies the fraction of training instances to be used for training each tree. For example, \n",
    "+ if subsample=0.25, then each tree is trained on 25% of the training instances, selected randomly.\n",
    "+ As you can probably guess by now, this trades a higher bias for a lower variance. It also speeds up training considerably. \n",
    "+ This technique is called Stochastic Gradient Boosting."
   ]
  },
  {
   "cell_type": "markdown",
   "metadata": {},
   "source": [
    "**It is possible to use Gradient Boosting with other cost functions. This is controlled by the loss hyperparameter**"
   ]
  },
  {
   "cell_type": "markdown",
   "metadata": {},
   "source": [
    "### Stacking\n",
    "\n",
    "\n",
    "It is an Ensemble method. It is based on a simple idea: instead of using trivial functions (such as hard voting) to\n",
    "aggregate the predictions of all predictors in an ensemble, why don’t we train a model to perform this\n",
    "aggregation?"
   ]
  },
  {
   "cell_type": "markdown",
   "metadata": {},
   "source": [
    "The below figure shows such an ensemble performing a regression task on a new instance. Each\n",
    "of the bottom three predictors predicts a different value (3.1, 2.7, and 2.9), and then the final predictor\n",
    "(called a blender, or a meta learner) takes these predictions as inputs and makes the final prediction\n",
    "(3.0)."
   ]
  },
  {
   "attachments": {},
   "cell_type": "markdown",
   "metadata": {},
   "source": [
    "![image.png](images/stacking.png)"
   ]
  },
  {
   "attachments": {},
   "cell_type": "markdown",
   "metadata": {},
   "source": [
    "#### How to train the blender ??\n",
    "\n",
    "\n",
    "+ To train the blender, a common approach is to use a hold-out set. Let’s see how it works. \n",
    "\n",
    "\n",
    "![image.png](images/splittingtestdata.png)\n",
    "\n",
    "\n",
    "+ First, the training set is split in two subsets. The first subset is used to train the predictors in the first layer\n",
    "+ Next, the first layer predictors are used to make predictions on the second (held-out) set\n",
    "+ This ensures that the predictions are “clean,” since the predictors never saw these instances during training.\n",
    "+ Now for each instance in the hold-out set there are three predicted values. We can create a new training set using these predicted values as input features (which makes this new training set threedimensional), and keeping the target values.\n",
    "+ The blender is trained on this new training set, so it learns to predict the target value given the first layer’s predictions.\n",
    "\n"
   ]
  },
  {
   "attachments": {},
   "cell_type": "markdown",
   "metadata": {},
   "source": [
    "![image.png](images/trainingblender.png)"
   ]
  },
  {
   "cell_type": "markdown",
   "metadata": {},
   "source": [
    "+ It is actually possible to train several different blenders this way (e.g., one using Linear Regression, another using Random Forest Regression, and so on): we get a whole layer of blenders. \n",
    "+ The trick is to split the training set into three subsets: \n",
    "    + the first one is used to train the first layer, \n",
    "    + the second one is used to create the training set used to train the second layer  (using predictions made by the predictors of the first layer), \n",
    "    + and the third one is used to create the training set to train the third layer (using predictions made by the predictors of the second layer). \n",
    "+ Once this is done, we can make a prediction for a new instance by going through each layer sequentially, as shown in Figure 7-15."
   ]
  },
  {
   "attachments": {},
   "cell_type": "markdown",
   "metadata": {},
   "source": [
    "![image.png](images/multipleblenders.png)"
   ]
  },
  {
   "cell_type": "code",
   "execution_count": null,
   "metadata": {},
   "outputs": [],
   "source": []
  }
 ],
 "metadata": {
  "kernelspec": {
   "display_name": "Python 3",
   "language": "python",
   "name": "python3"
  },
  "language_info": {
   "codemirror_mode": {
    "name": "ipython",
    "version": 3
   },
   "file_extension": ".py",
   "mimetype": "text/x-python",
   "name": "python",
   "nbconvert_exporter": "python",
   "pygments_lexer": "ipython3",
   "version": "3.6.3"
  }
 },
 "nbformat": 4,
 "nbformat_minor": 2
}
